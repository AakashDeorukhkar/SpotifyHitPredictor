{
 "cells": [
  {
   "cell_type": "markdown",
   "id": "ef7b3d85",
   "metadata": {},
   "source": [
    "### Importing the important libraries"
   ]
  },
  {
   "cell_type": "code",
   "execution_count": 1,
   "id": "a2930bfe",
   "metadata": {},
   "outputs": [],
   "source": [
    "import pandas as pd\n",
    "import numpy as np\n",
    "import matplotlib.pyplot as plt\n",
    "import seaborn as sns"
   ]
  },
  {
   "cell_type": "markdown",
   "id": "7aadd075",
   "metadata": {},
   "source": [
    "### Importing the dataset"
   ]
  },
  {
   "cell_type": "code",
   "execution_count": 2,
   "id": "3f172972",
   "metadata": {},
   "outputs": [],
   "source": [
    "data = pd.read_csv(\"spotifyData10.csv\")"
   ]
  },
  {
   "cell_type": "code",
   "execution_count": 3,
   "id": "ea466a79",
   "metadata": {},
   "outputs": [
    {
     "data": {
      "text/html": [
       "<div>\n",
       "<style scoped>\n",
       "    .dataframe tbody tr th:only-of-type {\n",
       "        vertical-align: middle;\n",
       "    }\n",
       "\n",
       "    .dataframe tbody tr th {\n",
       "        vertical-align: top;\n",
       "    }\n",
       "\n",
       "    .dataframe thead th {\n",
       "        text-align: right;\n",
       "    }\n",
       "</style>\n",
       "<table border=\"1\" class=\"dataframe\">\n",
       "  <thead>\n",
       "    <tr style=\"text-align: right;\">\n",
       "      <th></th>\n",
       "      <th>track</th>\n",
       "      <th>artist</th>\n",
       "      <th>uri</th>\n",
       "      <th>danceability</th>\n",
       "      <th>energy</th>\n",
       "      <th>key</th>\n",
       "      <th>loudness</th>\n",
       "      <th>mode</th>\n",
       "      <th>speechiness</th>\n",
       "      <th>acousticness</th>\n",
       "      <th>instrumentalness</th>\n",
       "      <th>liveness</th>\n",
       "      <th>valence</th>\n",
       "      <th>tempo</th>\n",
       "      <th>duration_ms</th>\n",
       "      <th>time_signature</th>\n",
       "      <th>chorus_hit</th>\n",
       "      <th>sections</th>\n",
       "      <th>target</th>\n",
       "    </tr>\n",
       "  </thead>\n",
       "  <tbody>\n",
       "    <tr>\n",
       "      <th>0</th>\n",
       "      <td>Wild Things</td>\n",
       "      <td>Alessia Cara</td>\n",
       "      <td>spotify:track:2ZyuwVvV6Z3XJaXIFbspeE</td>\n",
       "      <td>0.741</td>\n",
       "      <td>0.626</td>\n",
       "      <td>1</td>\n",
       "      <td>-4.826</td>\n",
       "      <td>0</td>\n",
       "      <td>0.0886</td>\n",
       "      <td>0.02000</td>\n",
       "      <td>0.000</td>\n",
       "      <td>0.0828</td>\n",
       "      <td>0.706</td>\n",
       "      <td>108.029</td>\n",
       "      <td>188493</td>\n",
       "      <td>4</td>\n",
       "      <td>41.18681</td>\n",
       "      <td>10</td>\n",
       "      <td>1</td>\n",
       "    </tr>\n",
       "    <tr>\n",
       "      <th>1</th>\n",
       "      <td>Surfboard</td>\n",
       "      <td>Esquivel!</td>\n",
       "      <td>spotify:track:61APOtq25SCMuK0V5w2Kgp</td>\n",
       "      <td>0.447</td>\n",
       "      <td>0.247</td>\n",
       "      <td>5</td>\n",
       "      <td>-14.661</td>\n",
       "      <td>0</td>\n",
       "      <td>0.0346</td>\n",
       "      <td>0.87100</td>\n",
       "      <td>0.814</td>\n",
       "      <td>0.0946</td>\n",
       "      <td>0.250</td>\n",
       "      <td>155.489</td>\n",
       "      <td>176880</td>\n",
       "      <td>3</td>\n",
       "      <td>33.18083</td>\n",
       "      <td>9</td>\n",
       "      <td>0</td>\n",
       "    </tr>\n",
       "    <tr>\n",
       "      <th>2</th>\n",
       "      <td>Love Someone</td>\n",
       "      <td>Lukas Graham</td>\n",
       "      <td>spotify:track:2JqnpexlO9dmvjUMCaLCLJ</td>\n",
       "      <td>0.550</td>\n",
       "      <td>0.415</td>\n",
       "      <td>9</td>\n",
       "      <td>-6.557</td>\n",
       "      <td>0</td>\n",
       "      <td>0.0520</td>\n",
       "      <td>0.16100</td>\n",
       "      <td>0.000</td>\n",
       "      <td>0.1080</td>\n",
       "      <td>0.274</td>\n",
       "      <td>172.065</td>\n",
       "      <td>205463</td>\n",
       "      <td>4</td>\n",
       "      <td>44.89147</td>\n",
       "      <td>9</td>\n",
       "      <td>1</td>\n",
       "    </tr>\n",
       "    <tr>\n",
       "      <th>3</th>\n",
       "      <td>Music To My Ears (feat. Tory Lanez)</td>\n",
       "      <td>Keys N Krates</td>\n",
       "      <td>spotify:track:0cjfLhk8WJ3etPTCseKXtk</td>\n",
       "      <td>0.502</td>\n",
       "      <td>0.648</td>\n",
       "      <td>0</td>\n",
       "      <td>-5.698</td>\n",
       "      <td>0</td>\n",
       "      <td>0.0527</td>\n",
       "      <td>0.00513</td>\n",
       "      <td>0.000</td>\n",
       "      <td>0.2040</td>\n",
       "      <td>0.291</td>\n",
       "      <td>91.837</td>\n",
       "      <td>193043</td>\n",
       "      <td>4</td>\n",
       "      <td>29.52521</td>\n",
       "      <td>7</td>\n",
       "      <td>0</td>\n",
       "    </tr>\n",
       "    <tr>\n",
       "      <th>4</th>\n",
       "      <td>Juju On That Beat (TZ Anthem)</td>\n",
       "      <td>Zay Hilfigerrr &amp; Zayion McCall</td>\n",
       "      <td>spotify:track:1lItf5ZXJc1by9SbPeljFd</td>\n",
       "      <td>0.807</td>\n",
       "      <td>0.887</td>\n",
       "      <td>1</td>\n",
       "      <td>-3.892</td>\n",
       "      <td>1</td>\n",
       "      <td>0.2750</td>\n",
       "      <td>0.00381</td>\n",
       "      <td>0.000</td>\n",
       "      <td>0.3910</td>\n",
       "      <td>0.780</td>\n",
       "      <td>160.517</td>\n",
       "      <td>144244</td>\n",
       "      <td>4</td>\n",
       "      <td>24.99199</td>\n",
       "      <td>8</td>\n",
       "      <td>1</td>\n",
       "    </tr>\n",
       "  </tbody>\n",
       "</table>\n",
       "</div>"
      ],
      "text/plain": [
       "                                 track                          artist  \\\n",
       "0                          Wild Things                    Alessia Cara   \n",
       "1                            Surfboard                       Esquivel!   \n",
       "2                         Love Someone                    Lukas Graham   \n",
       "3  Music To My Ears (feat. Tory Lanez)                   Keys N Krates   \n",
       "4        Juju On That Beat (TZ Anthem)  Zay Hilfigerrr & Zayion McCall   \n",
       "\n",
       "                                    uri  danceability  energy  key  loudness  \\\n",
       "0  spotify:track:2ZyuwVvV6Z3XJaXIFbspeE         0.741   0.626    1    -4.826   \n",
       "1  spotify:track:61APOtq25SCMuK0V5w2Kgp         0.447   0.247    5   -14.661   \n",
       "2  spotify:track:2JqnpexlO9dmvjUMCaLCLJ         0.550   0.415    9    -6.557   \n",
       "3  spotify:track:0cjfLhk8WJ3etPTCseKXtk         0.502   0.648    0    -5.698   \n",
       "4  spotify:track:1lItf5ZXJc1by9SbPeljFd         0.807   0.887    1    -3.892   \n",
       "\n",
       "   mode  speechiness  acousticness  instrumentalness  liveness  valence  \\\n",
       "0     0       0.0886       0.02000             0.000    0.0828    0.706   \n",
       "1     0       0.0346       0.87100             0.814    0.0946    0.250   \n",
       "2     0       0.0520       0.16100             0.000    0.1080    0.274   \n",
       "3     0       0.0527       0.00513             0.000    0.2040    0.291   \n",
       "4     1       0.2750       0.00381             0.000    0.3910    0.780   \n",
       "\n",
       "     tempo  duration_ms  time_signature  chorus_hit  sections  target  \n",
       "0  108.029       188493               4    41.18681        10       1  \n",
       "1  155.489       176880               3    33.18083         9       0  \n",
       "2  172.065       205463               4    44.89147         9       1  \n",
       "3   91.837       193043               4    29.52521         7       0  \n",
       "4  160.517       144244               4    24.99199         8       1  "
      ]
     },
     "execution_count": 3,
     "metadata": {},
     "output_type": "execute_result"
    }
   ],
   "source": [
    "data.head()"
   ]
  },
  {
   "cell_type": "markdown",
   "id": "1dcd9944",
   "metadata": {},
   "source": [
    "## Exploratory Data Analysis"
   ]
  },
  {
   "cell_type": "markdown",
   "id": "9d7ae057",
   "metadata": {},
   "source": [
    "### Checking for null values"
   ]
  },
  {
   "cell_type": "code",
   "execution_count": 4,
   "id": "2718fdb4",
   "metadata": {},
   "outputs": [],
   "source": [
    "df = data.copy()"
   ]
  },
  {
   "cell_type": "code",
   "execution_count": 5,
   "id": "a843421a",
   "metadata": {},
   "outputs": [
    {
     "data": {
      "text/plain": [
       "track               0\n",
       "artist              0\n",
       "uri                 0\n",
       "danceability        0\n",
       "energy              0\n",
       "key                 0\n",
       "loudness            0\n",
       "mode                0\n",
       "speechiness         0\n",
       "acousticness        0\n",
       "instrumentalness    0\n",
       "liveness            0\n",
       "valence             0\n",
       "tempo               0\n",
       "duration_ms         0\n",
       "time_signature      0\n",
       "chorus_hit          0\n",
       "sections            0\n",
       "target              0\n",
       "dtype: int64"
      ]
     },
     "execution_count": 5,
     "metadata": {},
     "output_type": "execute_result"
    }
   ],
   "source": [
    "df.isna().sum()"
   ]
  },
  {
   "cell_type": "markdown",
   "id": "ced39e6f",
   "metadata": {},
   "source": [
    "### Getting insights of the data and its features"
   ]
  },
  {
   "cell_type": "code",
   "execution_count": 6,
   "id": "c2d4f67e",
   "metadata": {},
   "outputs": [
    {
     "name": "stdout",
     "output_type": "stream",
     "text": [
      "<class 'pandas.core.frame.DataFrame'>\n",
      "RangeIndex: 6398 entries, 0 to 6397\n",
      "Data columns (total 19 columns):\n",
      " #   Column            Non-Null Count  Dtype  \n",
      "---  ------            --------------  -----  \n",
      " 0   track             6398 non-null   object \n",
      " 1   artist            6398 non-null   object \n",
      " 2   uri               6398 non-null   object \n",
      " 3   danceability      6398 non-null   float64\n",
      " 4   energy            6398 non-null   float64\n",
      " 5   key               6398 non-null   int64  \n",
      " 6   loudness          6398 non-null   float64\n",
      " 7   mode              6398 non-null   int64  \n",
      " 8   speechiness       6398 non-null   float64\n",
      " 9   acousticness      6398 non-null   float64\n",
      " 10  instrumentalness  6398 non-null   float64\n",
      " 11  liveness          6398 non-null   float64\n",
      " 12  valence           6398 non-null   float64\n",
      " 13  tempo             6398 non-null   float64\n",
      " 14  duration_ms       6398 non-null   int64  \n",
      " 15  time_signature    6398 non-null   int64  \n",
      " 16  chorus_hit        6398 non-null   float64\n",
      " 17  sections          6398 non-null   int64  \n",
      " 18  target            6398 non-null   int64  \n",
      "dtypes: float64(10), int64(6), object(3)\n",
      "memory usage: 949.8+ KB\n"
     ]
    }
   ],
   "source": [
    "df.info()"
   ]
  },
  {
   "cell_type": "code",
   "execution_count": 7,
   "id": "d9d2ae97",
   "metadata": {},
   "outputs": [
    {
     "data": {
      "text/html": [
       "<div>\n",
       "<style scoped>\n",
       "    .dataframe tbody tr th:only-of-type {\n",
       "        vertical-align: middle;\n",
       "    }\n",
       "\n",
       "    .dataframe tbody tr th {\n",
       "        vertical-align: top;\n",
       "    }\n",
       "\n",
       "    .dataframe thead th {\n",
       "        text-align: right;\n",
       "    }\n",
       "</style>\n",
       "<table border=\"1\" class=\"dataframe\">\n",
       "  <thead>\n",
       "    <tr style=\"text-align: right;\">\n",
       "      <th></th>\n",
       "      <th>danceability</th>\n",
       "      <th>energy</th>\n",
       "      <th>key</th>\n",
       "      <th>loudness</th>\n",
       "      <th>mode</th>\n",
       "      <th>speechiness</th>\n",
       "      <th>acousticness</th>\n",
       "      <th>instrumentalness</th>\n",
       "      <th>liveness</th>\n",
       "      <th>valence</th>\n",
       "      <th>tempo</th>\n",
       "      <th>duration_ms</th>\n",
       "      <th>time_signature</th>\n",
       "      <th>chorus_hit</th>\n",
       "      <th>sections</th>\n",
       "      <th>target</th>\n",
       "    </tr>\n",
       "  </thead>\n",
       "  <tbody>\n",
       "    <tr>\n",
       "      <th>count</th>\n",
       "      <td>6398.000000</td>\n",
       "      <td>6398.000000</td>\n",
       "      <td>6398.000000</td>\n",
       "      <td>6398.000000</td>\n",
       "      <td>6398.000000</td>\n",
       "      <td>6398.000000</td>\n",
       "      <td>6398.000000</td>\n",
       "      <td>6398.000000</td>\n",
       "      <td>6398.000000</td>\n",
       "      <td>6398.000000</td>\n",
       "      <td>6398.000000</td>\n",
       "      <td>6.398000e+03</td>\n",
       "      <td>6398.000000</td>\n",
       "      <td>6398.000000</td>\n",
       "      <td>6398.000000</td>\n",
       "      <td>6398.000000</td>\n",
       "    </tr>\n",
       "    <tr>\n",
       "      <th>mean</th>\n",
       "      <td>0.568163</td>\n",
       "      <td>0.667756</td>\n",
       "      <td>5.283526</td>\n",
       "      <td>-7.589796</td>\n",
       "      <td>0.645514</td>\n",
       "      <td>0.098018</td>\n",
       "      <td>0.216928</td>\n",
       "      <td>0.165293</td>\n",
       "      <td>0.196700</td>\n",
       "      <td>0.443734</td>\n",
       "      <td>122.353871</td>\n",
       "      <td>2.367042e+05</td>\n",
       "      <td>3.930916</td>\n",
       "      <td>41.028399</td>\n",
       "      <td>10.316505</td>\n",
       "      <td>0.500000</td>\n",
       "    </tr>\n",
       "    <tr>\n",
       "      <th>std</th>\n",
       "      <td>0.191103</td>\n",
       "      <td>0.240721</td>\n",
       "      <td>3.606216</td>\n",
       "      <td>5.234592</td>\n",
       "      <td>0.478395</td>\n",
       "      <td>0.097224</td>\n",
       "      <td>0.296835</td>\n",
       "      <td>0.318736</td>\n",
       "      <td>0.166148</td>\n",
       "      <td>0.245776</td>\n",
       "      <td>29.847389</td>\n",
       "      <td>8.563698e+04</td>\n",
       "      <td>0.377469</td>\n",
       "      <td>19.568827</td>\n",
       "      <td>3.776011</td>\n",
       "      <td>0.500039</td>\n",
       "    </tr>\n",
       "    <tr>\n",
       "      <th>min</th>\n",
       "      <td>0.062200</td>\n",
       "      <td>0.000251</td>\n",
       "      <td>0.000000</td>\n",
       "      <td>-46.655000</td>\n",
       "      <td>0.000000</td>\n",
       "      <td>0.022500</td>\n",
       "      <td>0.000000</td>\n",
       "      <td>0.000000</td>\n",
       "      <td>0.016700</td>\n",
       "      <td>0.000000</td>\n",
       "      <td>39.369000</td>\n",
       "      <td>2.985300e+04</td>\n",
       "      <td>0.000000</td>\n",
       "      <td>0.000000</td>\n",
       "      <td>2.000000</td>\n",
       "      <td>0.000000</td>\n",
       "    </tr>\n",
       "    <tr>\n",
       "      <th>25%</th>\n",
       "      <td>0.447000</td>\n",
       "      <td>0.533000</td>\n",
       "      <td>2.000000</td>\n",
       "      <td>-8.425000</td>\n",
       "      <td>0.000000</td>\n",
       "      <td>0.038825</td>\n",
       "      <td>0.008533</td>\n",
       "      <td>0.000000</td>\n",
       "      <td>0.096800</td>\n",
       "      <td>0.240000</td>\n",
       "      <td>98.091250</td>\n",
       "      <td>1.932068e+05</td>\n",
       "      <td>4.000000</td>\n",
       "      <td>28.059135</td>\n",
       "      <td>8.000000</td>\n",
       "      <td>0.000000</td>\n",
       "    </tr>\n",
       "    <tr>\n",
       "      <th>50%</th>\n",
       "      <td>0.588000</td>\n",
       "      <td>0.712500</td>\n",
       "      <td>5.000000</td>\n",
       "      <td>-6.096500</td>\n",
       "      <td>1.000000</td>\n",
       "      <td>0.057200</td>\n",
       "      <td>0.067050</td>\n",
       "      <td>0.000017</td>\n",
       "      <td>0.126000</td>\n",
       "      <td>0.434000</td>\n",
       "      <td>121.070000</td>\n",
       "      <td>2.212465e+05</td>\n",
       "      <td>4.000000</td>\n",
       "      <td>36.265365</td>\n",
       "      <td>10.000000</td>\n",
       "      <td>0.500000</td>\n",
       "    </tr>\n",
       "    <tr>\n",
       "      <th>75%</th>\n",
       "      <td>0.710000</td>\n",
       "      <td>0.857000</td>\n",
       "      <td>8.000000</td>\n",
       "      <td>-4.601250</td>\n",
       "      <td>1.000000</td>\n",
       "      <td>0.112000</td>\n",
       "      <td>0.311000</td>\n",
       "      <td>0.057650</td>\n",
       "      <td>0.249000</td>\n",
       "      <td>0.628000</td>\n",
       "      <td>141.085000</td>\n",
       "      <td>2.593165e+05</td>\n",
       "      <td>4.000000</td>\n",
       "      <td>48.292538</td>\n",
       "      <td>12.000000</td>\n",
       "      <td>1.000000</td>\n",
       "    </tr>\n",
       "    <tr>\n",
       "      <th>max</th>\n",
       "      <td>0.981000</td>\n",
       "      <td>0.999000</td>\n",
       "      <td>11.000000</td>\n",
       "      <td>-0.149000</td>\n",
       "      <td>1.000000</td>\n",
       "      <td>0.956000</td>\n",
       "      <td>0.996000</td>\n",
       "      <td>0.995000</td>\n",
       "      <td>0.982000</td>\n",
       "      <td>0.976000</td>\n",
       "      <td>210.977000</td>\n",
       "      <td>1.734201e+06</td>\n",
       "      <td>5.000000</td>\n",
       "      <td>213.154990</td>\n",
       "      <td>88.000000</td>\n",
       "      <td>1.000000</td>\n",
       "    </tr>\n",
       "  </tbody>\n",
       "</table>\n",
       "</div>"
      ],
      "text/plain": [
       "       danceability       energy          key     loudness         mode  \\\n",
       "count   6398.000000  6398.000000  6398.000000  6398.000000  6398.000000   \n",
       "mean       0.568163     0.667756     5.283526    -7.589796     0.645514   \n",
       "std        0.191103     0.240721     3.606216     5.234592     0.478395   \n",
       "min        0.062200     0.000251     0.000000   -46.655000     0.000000   \n",
       "25%        0.447000     0.533000     2.000000    -8.425000     0.000000   \n",
       "50%        0.588000     0.712500     5.000000    -6.096500     1.000000   \n",
       "75%        0.710000     0.857000     8.000000    -4.601250     1.000000   \n",
       "max        0.981000     0.999000    11.000000    -0.149000     1.000000   \n",
       "\n",
       "       speechiness  acousticness  instrumentalness     liveness      valence  \\\n",
       "count  6398.000000   6398.000000       6398.000000  6398.000000  6398.000000   \n",
       "mean      0.098018      0.216928          0.165293     0.196700     0.443734   \n",
       "std       0.097224      0.296835          0.318736     0.166148     0.245776   \n",
       "min       0.022500      0.000000          0.000000     0.016700     0.000000   \n",
       "25%       0.038825      0.008533          0.000000     0.096800     0.240000   \n",
       "50%       0.057200      0.067050          0.000017     0.126000     0.434000   \n",
       "75%       0.112000      0.311000          0.057650     0.249000     0.628000   \n",
       "max       0.956000      0.996000          0.995000     0.982000     0.976000   \n",
       "\n",
       "             tempo   duration_ms  time_signature   chorus_hit     sections  \\\n",
       "count  6398.000000  6.398000e+03     6398.000000  6398.000000  6398.000000   \n",
       "mean    122.353871  2.367042e+05        3.930916    41.028399    10.316505   \n",
       "std      29.847389  8.563698e+04        0.377469    19.568827     3.776011   \n",
       "min      39.369000  2.985300e+04        0.000000     0.000000     2.000000   \n",
       "25%      98.091250  1.932068e+05        4.000000    28.059135     8.000000   \n",
       "50%     121.070000  2.212465e+05        4.000000    36.265365    10.000000   \n",
       "75%     141.085000  2.593165e+05        4.000000    48.292538    12.000000   \n",
       "max     210.977000  1.734201e+06        5.000000   213.154990    88.000000   \n",
       "\n",
       "            target  \n",
       "count  6398.000000  \n",
       "mean      0.500000  \n",
       "std       0.500039  \n",
       "min       0.000000  \n",
       "25%       0.000000  \n",
       "50%       0.500000  \n",
       "75%       1.000000  \n",
       "max       1.000000  "
      ]
     },
     "execution_count": 7,
     "metadata": {},
     "output_type": "execute_result"
    }
   ],
   "source": [
    "df.describe()"
   ]
  },
  {
   "cell_type": "markdown",
   "id": "b5b9db9c",
   "metadata": {},
   "source": [
    "Information of unique values in each feature"
   ]
  },
  {
   "cell_type": "code",
   "execution_count": 8,
   "id": "873ce66f",
   "metadata": {
    "scrolled": true
   },
   "outputs": [
    {
     "data": {
      "text/plain": [
       "track               5966\n",
       "artist              3355\n",
       "uri                 6378\n",
       "danceability         882\n",
       "energy              1066\n",
       "key                   12\n",
       "loudness            4704\n",
       "mode                   2\n",
       "speechiness         1114\n",
       "acousticness        2668\n",
       "instrumentalness    2302\n",
       "liveness            1206\n",
       "valence             1219\n",
       "tempo               5531\n",
       "duration_ms         5591\n",
       "time_signature         5\n",
       "chorus_hit          6241\n",
       "sections              40\n",
       "target                 2\n",
       "dtype: int64"
      ]
     },
     "execution_count": 8,
     "metadata": {},
     "output_type": "execute_result"
    }
   ],
   "source": [
    "df.nunique()"
   ]
  },
  {
   "cell_type": "markdown",
   "id": "e1621a69",
   "metadata": {},
   "source": [
    "Checking if the data is balanced or not"
   ]
  },
  {
   "cell_type": "code",
   "execution_count": 9,
   "id": "18e359dd",
   "metadata": {},
   "outputs": [
    {
     "data": {
      "text/plain": [
       "1    3199\n",
       "0    3199\n",
       "Name: target, dtype: int64"
      ]
     },
     "execution_count": 9,
     "metadata": {},
     "output_type": "execute_result"
    }
   ],
   "source": [
    "df.target.value_counts()"
   ]
  },
  {
   "cell_type": "markdown",
   "id": "5b2aae3d",
   "metadata": {},
   "source": [
    "### The data is balanced"
   ]
  },
  {
   "cell_type": "markdown",
   "id": "510c8aa7",
   "metadata": {},
   "source": [
    "### Lets find the correlations with a correlation matrix"
   ]
  },
  {
   "cell_type": "code",
   "execution_count": 10,
   "id": "8466e6e6",
   "metadata": {},
   "outputs": [
    {
     "data": {
      "text/plain": [
       "<AxesSubplot:>"
      ]
     },
     "execution_count": 10,
     "metadata": {},
     "output_type": "execute_result"
    },
    {
     "data": {
      "image/png": "[encoded data removed]",
      "text/plain": [
       "<Figure size 1008x1008 with 2 Axes>"
      ]
     },
     "metadata": {
      "needs_background": "light"
     },
     "output_type": "display_data"
    }
   ],
   "source": [
    "plt.figure(figsize=(14,14))\n",
    "correl = df.corr()\n",
    "sns.heatmap(correl,annot=True)"
   ]
  },
  {
   "cell_type": "code",
   "execution_count": 11,
   "id": "04aa5a8d",
   "metadata": {},
   "outputs": [
    {
     "data": {
      "text/html": [
       "<div>\n",
       "<style scoped>\n",
       "    .dataframe tbody tr th:only-of-type {\n",
       "        vertical-align: middle;\n",
       "    }\n",
       "\n",
       "    .dataframe tbody tr th {\n",
       "        vertical-align: top;\n",
       "    }\n",
       "\n",
       "    .dataframe thead th {\n",
       "        text-align: right;\n",
       "    }\n",
       "</style>\n",
       "<table border=\"1\" class=\"dataframe\">\n",
       "  <thead>\n",
       "    <tr style=\"text-align: right;\">\n",
       "      <th></th>\n",
       "      <th>danceability</th>\n",
       "      <th>energy</th>\n",
       "      <th>key</th>\n",
       "      <th>loudness</th>\n",
       "      <th>mode</th>\n",
       "      <th>speechiness</th>\n",
       "      <th>acousticness</th>\n",
       "      <th>instrumentalness</th>\n",
       "      <th>liveness</th>\n",
       "      <th>valence</th>\n",
       "      <th>tempo</th>\n",
       "      <th>duration_ms</th>\n",
       "      <th>time_signature</th>\n",
       "      <th>chorus_hit</th>\n",
       "      <th>sections</th>\n",
       "      <th>target</th>\n",
       "    </tr>\n",
       "  </thead>\n",
       "  <tbody>\n",
       "    <tr>\n",
       "      <th>danceability</th>\n",
       "      <td>1.000000</td>\n",
       "      <td>0.069645</td>\n",
       "      <td>0.012429</td>\n",
       "      <td>0.300576</td>\n",
       "      <td>-0.057280</td>\n",
       "      <td>0.200090</td>\n",
       "      <td>-0.206865</td>\n",
       "      <td>-0.371334</td>\n",
       "      <td>-0.107581</td>\n",
       "      <td>0.494136</td>\n",
       "      <td>-0.056197</td>\n",
       "      <td>-0.224803</td>\n",
       "      <td>0.178671</td>\n",
       "      <td>-0.078254</td>\n",
       "      <td>-0.162908</td>\n",
       "      <td>0.384486</td>\n",
       "    </tr>\n",
       "    <tr>\n",
       "      <th>energy</th>\n",
       "      <td>0.069645</td>\n",
       "      <td>1.000000</td>\n",
       "      <td>0.028703</td>\n",
       "      <td>0.774536</td>\n",
       "      <td>0.004929</td>\n",
       "      <td>0.119194</td>\n",
       "      <td>-0.734853</td>\n",
       "      <td>-0.288263</td>\n",
       "      <td>0.231393</td>\n",
       "      <td>0.281031</td>\n",
       "      <td>0.216886</td>\n",
       "      <td>-0.009228</td>\n",
       "      <td>0.175984</td>\n",
       "      <td>-0.001224</td>\n",
       "      <td>-0.074466</td>\n",
       "      <td>0.060701</td>\n",
       "    </tr>\n",
       "    <tr>\n",
       "      <th>key</th>\n",
       "      <td>0.012429</td>\n",
       "      <td>0.028703</td>\n",
       "      <td>1.000000</td>\n",
       "      <td>0.010824</td>\n",
       "      <td>-0.146063</td>\n",
       "      <td>0.022796</td>\n",
       "      <td>-0.021271</td>\n",
       "      <td>-0.013049</td>\n",
       "      <td>0.021785</td>\n",
       "      <td>0.019572</td>\n",
       "      <td>0.009259</td>\n",
       "      <td>0.011028</td>\n",
       "      <td>-0.008462</td>\n",
       "      <td>0.001960</td>\n",
       "      <td>0.002512</td>\n",
       "      <td>0.005548</td>\n",
       "    </tr>\n",
       "    <tr>\n",
       "      <th>loudness</th>\n",
       "      <td>0.300576</td>\n",
       "      <td>0.774536</td>\n",
       "      <td>0.010824</td>\n",
       "      <td>1.000000</td>\n",
       "      <td>0.021064</td>\n",
       "      <td>0.122028</td>\n",
       "      <td>-0.648717</td>\n",
       "      <td>-0.533671</td>\n",
       "      <td>0.126807</td>\n",
       "      <td>0.324985</td>\n",
       "      <td>0.194467</td>\n",
       "      <td>-0.094598</td>\n",
       "      <td>0.207436</td>\n",
       "      <td>-0.042665</td>\n",
       "      <td>-0.111469</td>\n",
       "      <td>0.327471</td>\n",
       "    </tr>\n",
       "    <tr>\n",
       "      <th>mode</th>\n",
       "      <td>-0.057280</td>\n",
       "      <td>0.004929</td>\n",
       "      <td>-0.146063</td>\n",
       "      <td>0.021064</td>\n",
       "      <td>1.000000</td>\n",
       "      <td>-0.090107</td>\n",
       "      <td>0.011424</td>\n",
       "      <td>-0.037132</td>\n",
       "      <td>-0.011590</td>\n",
       "      <td>0.018198</td>\n",
       "      <td>0.032180</td>\n",
       "      <td>-0.042125</td>\n",
       "      <td>0.014125</td>\n",
       "      <td>-0.007967</td>\n",
       "      <td>-0.030129</td>\n",
       "      <td>0.032021</td>\n",
       "    </tr>\n",
       "    <tr>\n",
       "      <th>speechiness</th>\n",
       "      <td>0.200090</td>\n",
       "      <td>0.119194</td>\n",
       "      <td>0.022796</td>\n",
       "      <td>0.122028</td>\n",
       "      <td>-0.090107</td>\n",
       "      <td>1.000000</td>\n",
       "      <td>-0.134226</td>\n",
       "      <td>-0.148649</td>\n",
       "      <td>0.121075</td>\n",
       "      <td>0.053836</td>\n",
       "      <td>0.117813</td>\n",
       "      <td>-0.071826</td>\n",
       "      <td>0.063656</td>\n",
       "      <td>0.001857</td>\n",
       "      <td>-0.035077</td>\n",
       "      <td>0.097783</td>\n",
       "    </tr>\n",
       "    <tr>\n",
       "      <th>acousticness</th>\n",
       "      <td>-0.206865</td>\n",
       "      <td>-0.734853</td>\n",
       "      <td>-0.021271</td>\n",
       "      <td>-0.648717</td>\n",
       "      <td>0.011424</td>\n",
       "      <td>-0.134226</td>\n",
       "      <td>1.000000</td>\n",
       "      <td>0.315563</td>\n",
       "      <td>-0.149926</td>\n",
       "      <td>-0.166253</td>\n",
       "      <td>-0.182050</td>\n",
       "      <td>-0.039567</td>\n",
       "      <td>-0.191607</td>\n",
       "      <td>0.001477</td>\n",
       "      <td>0.024583</td>\n",
       "      <td>-0.184479</td>\n",
       "    </tr>\n",
       "    <tr>\n",
       "      <th>instrumentalness</th>\n",
       "      <td>-0.371334</td>\n",
       "      <td>-0.288263</td>\n",
       "      <td>-0.013049</td>\n",
       "      <td>-0.533671</td>\n",
       "      <td>-0.037132</td>\n",
       "      <td>-0.148649</td>\n",
       "      <td>0.315563</td>\n",
       "      <td>1.000000</td>\n",
       "      <td>-0.049879</td>\n",
       "      <td>-0.334662</td>\n",
       "      <td>-0.083487</td>\n",
       "      <td>0.183696</td>\n",
       "      <td>-0.133629</td>\n",
       "      <td>0.093847</td>\n",
       "      <td>0.114927</td>\n",
       "      <td>-0.499624</td>\n",
       "    </tr>\n",
       "    <tr>\n",
       "      <th>liveness</th>\n",
       "      <td>-0.107581</td>\n",
       "      <td>0.231393</td>\n",
       "      <td>0.021785</td>\n",
       "      <td>0.126807</td>\n",
       "      <td>-0.011590</td>\n",
       "      <td>0.121075</td>\n",
       "      <td>-0.149926</td>\n",
       "      <td>-0.049879</td>\n",
       "      <td>1.000000</td>\n",
       "      <td>-0.016562</td>\n",
       "      <td>0.038555</td>\n",
       "      <td>0.040219</td>\n",
       "      <td>0.026185</td>\n",
       "      <td>0.043099</td>\n",
       "      <td>0.008406</td>\n",
       "      <td>-0.062612</td>\n",
       "    </tr>\n",
       "    <tr>\n",
       "      <th>valence</th>\n",
       "      <td>0.494136</td>\n",
       "      <td>0.281031</td>\n",
       "      <td>0.019572</td>\n",
       "      <td>0.324985</td>\n",
       "      <td>0.018198</td>\n",
       "      <td>0.053836</td>\n",
       "      <td>-0.166253</td>\n",
       "      <td>-0.334662</td>\n",
       "      <td>-0.016562</td>\n",
       "      <td>1.000000</td>\n",
       "      <td>0.053572</td>\n",
       "      <td>-0.248445</td>\n",
       "      <td>0.117049</td>\n",
       "      <td>-0.103274</td>\n",
       "      <td>-0.168675</td>\n",
       "      <td>0.203774</td>\n",
       "    </tr>\n",
       "    <tr>\n",
       "      <th>tempo</th>\n",
       "      <td>-0.056197</td>\n",
       "      <td>0.216886</td>\n",
       "      <td>0.009259</td>\n",
       "      <td>0.194467</td>\n",
       "      <td>0.032180</td>\n",
       "      <td>0.117813</td>\n",
       "      <td>-0.182050</td>\n",
       "      <td>-0.083487</td>\n",
       "      <td>0.038555</td>\n",
       "      <td>0.053572</td>\n",
       "      <td>1.000000</td>\n",
       "      <td>-0.019830</td>\n",
       "      <td>0.025892</td>\n",
       "      <td>-0.060944</td>\n",
       "      <td>0.048688</td>\n",
       "      <td>0.039226</td>\n",
       "    </tr>\n",
       "    <tr>\n",
       "      <th>duration_ms</th>\n",
       "      <td>-0.224803</td>\n",
       "      <td>-0.009228</td>\n",
       "      <td>0.011028</td>\n",
       "      <td>-0.094598</td>\n",
       "      <td>-0.042125</td>\n",
       "      <td>-0.071826</td>\n",
       "      <td>-0.039567</td>\n",
       "      <td>0.183696</td>\n",
       "      <td>0.040219</td>\n",
       "      <td>-0.248445</td>\n",
       "      <td>-0.019830</td>\n",
       "      <td>1.000000</td>\n",
       "      <td>0.000599</td>\n",
       "      <td>0.096040</td>\n",
       "      <td>0.810253</td>\n",
       "      <td>-0.189203</td>\n",
       "    </tr>\n",
       "    <tr>\n",
       "      <th>time_signature</th>\n",
       "      <td>0.178671</td>\n",
       "      <td>0.175984</td>\n",
       "      <td>-0.008462</td>\n",
       "      <td>0.207436</td>\n",
       "      <td>0.014125</td>\n",
       "      <td>0.063656</td>\n",
       "      <td>-0.191607</td>\n",
       "      <td>-0.133629</td>\n",
       "      <td>0.026185</td>\n",
       "      <td>0.117049</td>\n",
       "      <td>0.025892</td>\n",
       "      <td>0.000599</td>\n",
       "      <td>1.000000</td>\n",
       "      <td>-0.031763</td>\n",
       "      <td>-0.012843</td>\n",
       "      <td>0.127544</td>\n",
       "    </tr>\n",
       "    <tr>\n",
       "      <th>chorus_hit</th>\n",
       "      <td>-0.078254</td>\n",
       "      <td>-0.001224</td>\n",
       "      <td>0.001960</td>\n",
       "      <td>-0.042665</td>\n",
       "      <td>-0.007967</td>\n",
       "      <td>0.001857</td>\n",
       "      <td>0.001477</td>\n",
       "      <td>0.093847</td>\n",
       "      <td>0.043099</td>\n",
       "      <td>-0.103274</td>\n",
       "      <td>-0.060944</td>\n",
       "      <td>0.096040</td>\n",
       "      <td>-0.031763</td>\n",
       "      <td>1.000000</td>\n",
       "      <td>-0.158206</td>\n",
       "      <td>-0.085587</td>\n",
       "    </tr>\n",
       "    <tr>\n",
       "      <th>sections</th>\n",
       "      <td>-0.162908</td>\n",
       "      <td>-0.074466</td>\n",
       "      <td>0.002512</td>\n",
       "      <td>-0.111469</td>\n",
       "      <td>-0.030129</td>\n",
       "      <td>-0.035077</td>\n",
       "      <td>0.024583</td>\n",
       "      <td>0.114927</td>\n",
       "      <td>0.008406</td>\n",
       "      <td>-0.168675</td>\n",
       "      <td>0.048688</td>\n",
       "      <td>0.810253</td>\n",
       "      <td>-0.012843</td>\n",
       "      <td>-0.158206</td>\n",
       "      <td>1.000000</td>\n",
       "      <td>-0.113383</td>\n",
       "    </tr>\n",
       "    <tr>\n",
       "      <th>target</th>\n",
       "      <td>0.384486</td>\n",
       "      <td>0.060701</td>\n",
       "      <td>0.005548</td>\n",
       "      <td>0.327471</td>\n",
       "      <td>0.032021</td>\n",
       "      <td>0.097783</td>\n",
       "      <td>-0.184479</td>\n",
       "      <td>-0.499624</td>\n",
       "      <td>-0.062612</td>\n",
       "      <td>0.203774</td>\n",
       "      <td>0.039226</td>\n",
       "      <td>-0.189203</td>\n",
       "      <td>0.127544</td>\n",
       "      <td>-0.085587</td>\n",
       "      <td>-0.113383</td>\n",
       "      <td>1.000000</td>\n",
       "    </tr>\n",
       "  </tbody>\n",
       "</table>\n",
       "</div>"
      ],
      "text/plain": [
       "                  danceability    energy       key  loudness      mode  \\\n",
       "danceability          1.000000  0.069645  0.012429  0.300576 -0.057280   \n",
       "energy                0.069645  1.000000  0.028703  0.774536  0.004929   \n",
       "key                   0.012429  0.028703  1.000000  0.010824 -0.146063   \n",
       "loudness              0.300576  0.774536  0.010824  1.000000  0.021064   \n",
       "mode                 -0.057280  0.004929 -0.146063  0.021064  1.000000   \n",
       "speechiness           0.200090  0.119194  0.022796  0.122028 -0.090107   \n",
       "acousticness         -0.206865 -0.734853 -0.021271 -0.648717  0.011424   \n",
       "instrumentalness     -0.371334 -0.288263 -0.013049 -0.533671 -0.037132   \n",
       "liveness             -0.107581  0.231393  0.021785  0.126807 -0.011590   \n",
       "valence               0.494136  0.281031  0.019572  0.324985  0.018198   \n",
       "tempo                -0.056197  0.216886  0.009259  0.194467  0.032180   \n",
       "duration_ms          -0.224803 -0.009228  0.011028 -0.094598 -0.042125   \n",
       "time_signature        0.178671  0.175984 -0.008462  0.207436  0.014125   \n",
       "chorus_hit           -0.078254 -0.001224  0.001960 -0.042665 -0.007967   \n",
       "sections             -0.162908 -0.074466  0.002512 -0.111469 -0.030129   \n",
       "target                0.384486  0.060701  0.005548  0.327471  0.032021   \n",
       "\n",
       "                  speechiness  acousticness  instrumentalness  liveness  \\\n",
       "danceability         0.200090     -0.206865         -0.371334 -0.107581   \n",
       "energy               0.119194     -0.734853         -0.288263  0.231393   \n",
       "key                  0.022796     -0.021271         -0.013049  0.021785   \n",
       "loudness             0.122028     -0.648717         -0.533671  0.126807   \n",
       "mode                -0.090107      0.011424         -0.037132 -0.011590   \n",
       "speechiness          1.000000     -0.134226         -0.148649  0.121075   \n",
       "acousticness        -0.134226      1.000000          0.315563 -0.149926   \n",
       "instrumentalness    -0.148649      0.315563          1.000000 -0.049879   \n",
       "liveness             0.121075     -0.149926         -0.049879  1.000000   \n",
       "valence              0.053836     -0.166253         -0.334662 -0.016562   \n",
       "tempo                0.117813     -0.182050         -0.083487  0.038555   \n",
       "duration_ms         -0.071826     -0.039567          0.183696  0.040219   \n",
       "time_signature       0.063656     -0.191607         -0.133629  0.026185   \n",
       "chorus_hit           0.001857      0.001477          0.093847  0.043099   \n",
       "sections            -0.035077      0.024583          0.114927  0.008406   \n",
       "target               0.097783     -0.184479         -0.499624 -0.062612   \n",
       "\n",
       "                   valence     tempo  duration_ms  time_signature  chorus_hit  \\\n",
       "danceability      0.494136 -0.056197    -0.224803        0.178671   -0.078254   \n",
       "energy            0.281031  0.216886    -0.009228        0.175984   -0.001224   \n",
       "key               0.019572  0.009259     0.011028       -0.008462    0.001960   \n",
       "loudness          0.324985  0.194467    -0.094598        0.207436   -0.042665   \n",
       "mode              0.018198  0.032180    -0.042125        0.014125   -0.007967   \n",
       "speechiness       0.053836  0.117813    -0.071826        0.063656    0.001857   \n",
       "acousticness     -0.166253 -0.182050    -0.039567       -0.191607    0.001477   \n",
       "instrumentalness -0.334662 -0.083487     0.183696       -0.133629    0.093847   \n",
       "liveness         -0.016562  0.038555     0.040219        0.026185    0.043099   \n",
       "valence           1.000000  0.053572    -0.248445        0.117049   -0.103274   \n",
       "tempo             0.053572  1.000000    -0.019830        0.025892   -0.060944   \n",
       "duration_ms      -0.248445 -0.019830     1.000000        0.000599    0.096040   \n",
       "time_signature    0.117049  0.025892     0.000599        1.000000   -0.031763   \n",
       "chorus_hit       -0.103274 -0.060944     0.096040       -0.031763    1.000000   \n",
       "sections         -0.168675  0.048688     0.810253       -0.012843   -0.158206   \n",
       "target            0.203774  0.039226    -0.189203        0.127544   -0.085587   \n",
       "\n",
       "                  sections    target  \n",
       "danceability     -0.162908  0.384486  \n",
       "energy           -0.074466  0.060701  \n",
       "key               0.002512  0.005548  \n",
       "loudness         -0.111469  0.327471  \n",
       "mode             -0.030129  0.032021  \n",
       "speechiness      -0.035077  0.097783  \n",
       "acousticness      0.024583 -0.184479  \n",
       "instrumentalness  0.114927 -0.499624  \n",
       "liveness          0.008406 -0.062612  \n",
       "valence          -0.168675  0.203774  \n",
       "tempo             0.048688  0.039226  \n",
       "duration_ms       0.810253 -0.189203  \n",
       "time_signature   -0.012843  0.127544  \n",
       "chorus_hit       -0.158206 -0.085587  \n",
       "sections          1.000000 -0.113383  \n",
       "target           -0.113383  1.000000  "
      ]
     },
     "execution_count": 11,
     "metadata": {},
     "output_type": "execute_result"
    }
   ],
   "source": [
    "correl"
   ]
  },
  {
   "cell_type": "markdown",
   "id": "dc8567d6",
   "metadata": {},
   "source": [
    "## Conclusion:\n",
    "#### With respect to the target variable (hit or flop):\n",
    "1. daceability, loudness, valence and time_signatures have a positive correlation\n",
    "2. instrumentalness, acousticness, sections, duration_ms have a negative correlation\n",
    "\n",
    "#### Loudness\n",
    "1. Loudness has a strong positive correlation with energy\n",
    "2. Loudness has a strong negative correlation with instrumentalness and acousticness\n",
    "\n",
    "#### Acousticness\n",
    "1. Acousticness is strongly negatively correlated with energy\n",
    "\n",
    "#### Danceability\n",
    "1. Danceability and valence are strongly positively correlated"
   ]
  },
  {
   "cell_type": "markdown",
   "id": "ded8fa43",
   "metadata": {},
   "source": [
    "### Seperative the categorical and numeric features"
   ]
  },
  {
   "cell_type": "code",
   "execution_count": 12,
   "id": "3978f6a9",
   "metadata": {},
   "outputs": [
    {
     "data": {
      "text/plain": [
       "track               5966\n",
       "artist              3355\n",
       "uri                 6378\n",
       "danceability         882\n",
       "energy              1066\n",
       "key                   12\n",
       "loudness            4704\n",
       "mode                   2\n",
       "speechiness         1114\n",
       "acousticness        2668\n",
       "instrumentalness    2302\n",
       "liveness            1206\n",
       "valence             1219\n",
       "tempo               5531\n",
       "duration_ms         5591\n",
       "time_signature         5\n",
       "chorus_hit          6241\n",
       "sections              40\n",
       "target                 2\n",
       "dtype: int64"
      ]
     },
     "execution_count": 12,
     "metadata": {},
     "output_type": "execute_result"
    }
   ],
   "source": [
    "df.nunique()"
   ]
  },
  {
   "cell_type": "markdown",
   "id": "891c878c",
   "metadata": {},
   "source": [
    "#### Conclusion:\n",
    "Lets set the threshold of unique values in each feature to seperate them into categorical and numerical as 15\n"
   ]
  },
  {
   "cell_type": "code",
   "execution_count": 13,
   "id": "e5746036",
   "metadata": {},
   "outputs": [],
   "source": [
    "categorical = [x for x in df.columns if df[x].nunique()< 15]"
   ]
  },
  {
   "cell_type": "markdown",
   "id": "a0e76cef",
   "metadata": {},
   "source": [
    "#### The categorical features are:"
   ]
  },
  {
   "cell_type": "code",
   "execution_count": 14,
   "id": "95c96613",
   "metadata": {},
   "outputs": [
    {
     "data": {
      "text/plain": [
       "['key', 'mode', 'time_signature', 'target']"
      ]
     },
     "execution_count": 14,
     "metadata": {},
     "output_type": "execute_result"
    }
   ],
   "source": [
    "categorical"
   ]
  },
  {
   "cell_type": "markdown",
   "id": "63c3a94f",
   "metadata": {},
   "source": [
    "Lets drop the features that are unique and do not have an impact on the target"
   ]
  },
  {
   "cell_type": "code",
   "execution_count": 15,
   "id": "22bcd9b2",
   "metadata": {},
   "outputs": [],
   "source": [
    "df = df.drop(['track','artist','uri'],axis=1)"
   ]
  },
  {
   "cell_type": "code",
   "execution_count": 16,
   "id": "94879c83",
   "metadata": {},
   "outputs": [],
   "source": [
    "numeric = [x for x in df.columns if df[x].nunique() > 15]"
   ]
  },
  {
   "cell_type": "markdown",
   "id": "b4990c82",
   "metadata": {},
   "source": [
    "#### Numeric Features"
   ]
  },
  {
   "cell_type": "code",
   "execution_count": 17,
   "id": "c314b999",
   "metadata": {},
   "outputs": [
    {
     "data": {
      "text/plain": [
       "['danceability',\n",
       " 'energy',\n",
       " 'loudness',\n",
       " 'speechiness',\n",
       " 'acousticness',\n",
       " 'instrumentalness',\n",
       " 'liveness',\n",
       " 'valence',\n",
       " 'tempo',\n",
       " 'duration_ms',\n",
       " 'chorus_hit',\n",
       " 'sections']"
      ]
     },
     "execution_count": 17,
     "metadata": {},
     "output_type": "execute_result"
    }
   ],
   "source": [
    "numeric"
   ]
  },
  {
   "cell_type": "markdown",
   "id": "9ae61091",
   "metadata": {},
   "source": [
    "#### Conclusion:\n",
    "We have successfully split the data in numeric and categorical features"
   ]
  },
  {
   "cell_type": "markdown",
   "id": "e5a78485",
   "metadata": {},
   "source": [
    "### Let is visualize this data"
   ]
  },
  {
   "cell_type": "markdown",
   "id": "52a00b30",
   "metadata": {},
   "source": [
    "### Categorical Features"
   ]
  },
  {
   "cell_type": "code",
   "execution_count": 18,
   "id": "50ab1759",
   "metadata": {},
   "outputs": [
    {
     "data": {
      "image/png": "[encoded data removed]",
      "text/plain": [
       "<Figure size 1296x1440 with 3 Axes>"
      ]
     },
     "metadata": {
      "needs_background": "light"
     },
     "output_type": "display_data"
    }
   ],
   "source": [
    "plt.figure(figsize=(18,20))\n",
    "i = 1\n",
    "for features in categorical[:-1]:\n",
    "    plt.subplot(2,2,i)\n",
    "    sns.countplot(x=df[features],hue=data.target).set_title(features)\n",
    "    i=i+1\n",
    "plt.show()"
   ]
  },
  {
   "cell_type": "markdown",
   "id": "b9067154",
   "metadata": {},
   "source": [
    "### Conclusion:\n",
    "#### Key:\n",
    "1. Hit : Songs with a key of 1,6,8,10 have a slightly higher chance of being a hit than other keys\n",
    "2. Flop : Songs with a key of 2,4,7,9 have a slightly higher chance of being a flot than other keys\n",
    "\n",
    "#### Mode:\n",
    "1. 0 or Minor : Songs with the mode of 0 or 'Minor' have a slightly higher chance of being a flop\n",
    "2. 1 or Major : Songs with the mode of 1 or 'Major' have a slightly higher chance of being a hit\n",
    "\n",
    "#### Time Signature\n",
    "1. Songs with 4 beats per bar are more frequent and have a higher chance of being a hit\n",
    "2. Songs with any other number of beats per bar have a slightly higher chance of being a flop"
   ]
  },
  {
   "cell_type": "markdown",
   "id": "d8d58c6e",
   "metadata": {},
   "source": [
    "### Numeric Features"
   ]
  },
  {
   "cell_type": "code",
   "execution_count": 19,
   "id": "b6352252",
   "metadata": {},
   "outputs": [
    {
     "data": {
      "image/png": "[encoded data removed]",
      "text/plain": [
       "<Figure size 1296x1440 with 12 Axes>"
      ]
     },
     "metadata": {
      "needs_background": "light"
     },
     "output_type": "display_data"
    }
   ],
   "source": [
    "plt.figure(figsize=(18,20))\n",
    "i = 1\n",
    "for features in numeric:\n",
    "    plt.subplot(3,4,i)\n",
    "    sns.histplot(x=df[features],hue= df.target, bins=10).set_title(features)\n",
    "    i=i+1\n",
    "plt.show()"
   ]
  },
  {
   "cell_type": "markdown",
   "id": "e3cac95f",
   "metadata": {},
   "source": [
    "### Insights:\n",
    "1. Danceability: \n",
    "Songs with danceability in the range of 0.5 to 1 have a higher change of being a hit\n",
    "2. Energy: \n",
    "Songs with energy is the range of 0.4 to 0.9 have a higher chance of being a hit whereas songs with energy between 0.9 and 1 have a higher chance of being a flop\n",
    "\n",
    "3. Loudness:\n",
    "Songs with a loudness between -40 db to -10 db has a higher chance of being a flop\n",
    "\n",
    "4. Instrumentalness:\n",
    "Songs with instrumentalness between 0.0 to 0.10 have a higher chance of being a hit than any other range\n",
    "\n",
    "5. Valence:\n",
    "Songs with a valence in the range 0.4 to 0.9 have a higher chance of being a hit than other ranges"
   ]
  },
  {
   "cell_type": "code",
   "execution_count": 20,
   "id": "b21fe07c",
   "metadata": {},
   "outputs": [
    {
     "data": {
      "image/png": "[encoded data removed]",
      "text/plain": [
       "<Figure size 1296x1440 with 12 Axes>"
      ]
     },
     "metadata": {
      "needs_background": "light"
     },
     "output_type": "display_data"
    }
   ],
   "source": [
    "plt.figure(figsize=(18,20))\n",
    "i = 1\n",
    "for features in numeric:\n",
    "    plt.subplot(3,4,i)\n",
    "    sns.boxplot(x=df[features]).set_title(features)\n",
    "    i=i+1\n",
    "plt.show()"
   ]
  },
  {
   "cell_type": "code",
   "execution_count": 21,
   "id": "ab210b23",
   "metadata": {},
   "outputs": [
    {
     "data": {
      "text/plain": [
       "Index(['danceability', 'energy', 'key', 'loudness', 'mode', 'speechiness',\n",
       "       'acousticness', 'instrumentalness', 'liveness', 'valence', 'tempo',\n",
       "       'duration_ms', 'time_signature', 'chorus_hit', 'sections', 'target'],\n",
       "      dtype='object')"
      ]
     },
     "execution_count": 21,
     "metadata": {},
     "output_type": "execute_result"
    }
   ],
   "source": [
    "df.columns"
   ]
  },
  {
   "cell_type": "markdown",
   "id": "fadc8fe7",
   "metadata": {},
   "source": [
    "## Feature Engineering"
   ]
  },
  {
   "cell_type": "markdown",
   "id": "ddda5f35",
   "metadata": {},
   "source": [
    "#### Splitting the data into dependent and independent features"
   ]
  },
  {
   "cell_type": "code",
   "execution_count": 22,
   "id": "7f2976c7",
   "metadata": {},
   "outputs": [],
   "source": [
    "X = df.drop('target',axis=1)"
   ]
  },
  {
   "cell_type": "code",
   "execution_count": 23,
   "id": "2a93f1ad",
   "metadata": {},
   "outputs": [
    {
     "data": {
      "text/plain": [
       "Index(['danceability', 'energy', 'key', 'loudness', 'mode', 'speechiness',\n",
       "       'acousticness', 'instrumentalness', 'liveness', 'valence', 'tempo',\n",
       "       'duration_ms', 'time_signature', 'chorus_hit', 'sections'],\n",
       "      dtype='object')"
      ]
     },
     "execution_count": 23,
     "metadata": {},
     "output_type": "execute_result"
    }
   ],
   "source": [
    "X.columns"
   ]
  },
  {
   "cell_type": "code",
   "execution_count": 24,
   "id": "3c6b5a74",
   "metadata": {},
   "outputs": [],
   "source": [
    "y = df[\"target\"]"
   ]
  },
  {
   "cell_type": "markdown",
   "id": "0db03080",
   "metadata": {},
   "source": [
    "#### Now lets split the data in train and test"
   ]
  },
  {
   "cell_type": "code",
   "execution_count": 25,
   "id": "6bb07336",
   "metadata": {},
   "outputs": [],
   "source": [
    "from sklearn.model_selection import train_test_split"
   ]
  },
  {
   "cell_type": "code",
   "execution_count": 26,
   "id": "db874238",
   "metadata": {},
   "outputs": [],
   "source": [
    "x_train,x_test,y_train,y_test = train_test_split(X,y,test_size=0.20)"
   ]
  },
  {
   "cell_type": "markdown",
   "id": "be1abcde",
   "metadata": {},
   "source": [
    "Now we have split the data to train and test data"
   ]
  },
  {
   "cell_type": "markdown",
   "id": "5239ed85",
   "metadata": {},
   "source": [
    "### Model Selection"
   ]
  },
  {
   "cell_type": "code",
   "execution_count": 27,
   "id": "a6b6f81f",
   "metadata": {},
   "outputs": [],
   "source": [
    "from xgboost import XGBClassifier"
   ]
  },
  {
   "cell_type": "code",
   "execution_count": 28,
   "id": "c96b7487",
   "metadata": {},
   "outputs": [],
   "source": [
    "classifier = XGBClassifier()"
   ]
  },
  {
   "cell_type": "markdown",
   "id": "72c77f3c",
   "metadata": {},
   "source": [
    "#### Lets import randomized Search Cross Validation too so we can perform hyperparameter tuning on XGBoost"
   ]
  },
  {
   "cell_type": "code",
   "execution_count": 29,
   "id": "6fef1025",
   "metadata": {},
   "outputs": [],
   "source": [
    "from sklearn.model_selection import RandomizedSearchCV"
   ]
  },
  {
   "cell_type": "markdown",
   "id": "f512f092",
   "metadata": {},
   "source": [
    "#### Lets pass a range of parameters for the Randomized Search CV to take and select the best one for us"
   ]
  },
  {
   "cell_type": "code",
   "execution_count": 30,
   "id": "de0df8b3",
   "metadata": {},
   "outputs": [],
   "source": [
    "params = {\n",
    "    'learning_rate':[0.05,0.10,0.15,0.20,0.25,0.30],\n",
    "    'max_depth': [3,4,5,6,8,10,12,15],\n",
    "    'min_child_weight':[1,3,5,7],\n",
    "    'gamma':[0.0, 0.1, 0.2, 0.3, 0.4],\n",
    "    'colsample_bytree': [0.3, 0.4, 0.5, 0.7]     \n",
    "}"
   ]
  },
  {
   "cell_type": "markdown",
   "id": "03e25d07",
   "metadata": {},
   "source": [
    "#### Passing these parameters to RandomizedSearchCV"
   ]
  },
  {
   "cell_type": "code",
   "execution_count": 32,
   "id": "e6d0cb98",
   "metadata": {},
   "outputs": [],
   "source": [
    "random_search = RandomizedSearchCV(classifier,param_distributions=params,n_iter=5,scoring=\"roc_auc\",n_jobs=-1,cv=5,verbose=3)"
   ]
  },
  {
   "cell_type": "code",
   "execution_count": 33,
   "id": "70097c6d",
   "metadata": {},
   "outputs": [
    {
     "name": "stdout",
     "output_type": "stream",
     "text": [
      "Fitting 5 folds for each of 5 candidates, totalling 25 fits\n"
     ]
    },
    {
     "name": "stderr",
     "output_type": "stream",
     "text": [
      "/opt/anaconda3/envs/CarPricePrediction/lib/python3.8/site-packages/xgboost/sklearn.py:1224: UserWarning: The use of label encoder in XGBClassifier is deprecated and will be removed in a future release. To remove this warning, do the following: 1) Pass option use_label_encoder=False when constructing XGBClassifier object; and 2) Encode your labels (y) as integers starting with 0, i.e. 0, 1, 2, ..., [num_class - 1].\n",
      "  warnings.warn(label_encoder_deprecation_msg, UserWarning)\n"
     ]
    },
    {
     "name": "stdout",
     "output_type": "stream",
     "text": [
      "[13:02:05] WARNING: /Users/runner/miniforge3/conda-bld/xgboost-split_1637426408905/work/src/learner.cc:1115: Starting in XGBoost 1.3.0, the default evaluation metric used with the objective 'binary:logistic' was changed from 'error' to 'logloss'. Explicitly set eval_metric if you'd like to restore the old behavior.\n"
     ]
    },
    {
     "data": {
      "text/plain": [
       "RandomizedSearchCV(cv=5,\n",
       "                   estimator=XGBClassifier(base_score=None, booster=None,\n",
       "                                           colsample_bylevel=None,\n",
       "                                           colsample_bynode=None,\n",
       "                                           colsample_bytree=None,\n",
       "                                           enable_categorical=False, gamma=None,\n",
       "                                           gpu_id=None, importance_type=None,\n",
       "                                           interaction_constraints=None,\n",
       "                                           learning_rate=None,\n",
       "                                           max_delta_step=None, max_depth=None,\n",
       "                                           min_child_weight=None, missing=nan,\n",
       "                                           monotone_constraints...\n",
       "                                           reg_alpha=None, reg_lambda=None,\n",
       "                                           scale_pos_weight=None,\n",
       "                                           subsample=None, tree_method=None,\n",
       "                                           validate_parameters=None,\n",
       "                                           verbosity=None),\n",
       "                   n_iter=5, n_jobs=-1,\n",
       "                   param_distributions={'colsample_bytree': [0.3, 0.4, 0.5,\n",
       "                                                             0.7],\n",
       "                                        'gamma': [0.0, 0.1, 0.2, 0.3, 0.4],\n",
       "                                        'learning_rate': [0.05, 0.1, 0.15, 0.2,\n",
       "                                                          0.25, 0.3],\n",
       "                                        'max_depth': [3, 4, 5, 6, 8, 10, 12,\n",
       "                                                      15],\n",
       "                                        'min_child_weight': [1, 3, 5, 7]},\n",
       "                   scoring='roc_auc', verbose=3)"
      ]
     },
     "execution_count": 33,
     "metadata": {},
     "output_type": "execute_result"
    }
   ],
   "source": [
    "random_search.fit(x_train,y_train)"
   ]
  },
  {
   "cell_type": "markdown",
   "id": "161a7c6e",
   "metadata": {},
   "source": [
    "#### Lets see what parameters were selected by the Cross Validation Process"
   ]
  },
  {
   "cell_type": "code",
   "execution_count": 34,
   "id": "040e1a6a",
   "metadata": {},
   "outputs": [
    {
     "data": {
      "text/plain": [
       "XGBClassifier(base_score=0.5, booster='gbtree', colsample_bylevel=1,\n",
       "              colsample_bynode=1, colsample_bytree=0.7,\n",
       "              enable_categorical=False, gamma=0.2, gpu_id=-1,\n",
       "              importance_type=None, interaction_constraints='',\n",
       "              learning_rate=0.1, max_delta_step=0, max_depth=5,\n",
       "              min_child_weight=1, missing=nan, monotone_constraints='()',\n",
       "              n_estimators=100, n_jobs=8, num_parallel_tree=1, predictor='auto',\n",
       "              random_state=0, reg_alpha=0, reg_lambda=1, scale_pos_weight=1,\n",
       "              subsample=1, tree_method='exact', validate_parameters=1,\n",
       "              verbosity=None)"
      ]
     },
     "execution_count": 34,
     "metadata": {},
     "output_type": "execute_result"
    },
    {
     "name": "stderr",
     "output_type": "stream",
     "text": [
      "/opt/anaconda3/envs/CarPricePrediction/lib/python3.8/site-packages/xgboost/sklearn.py:1224: UserWarning: The use of label encoder in XGBClassifier is deprecated and will be removed in a future release. To remove this warning, do the following: 1) Pass option use_label_encoder=False when constructing XGBClassifier object; and 2) Encode your labels (y) as integers starting with 0, i.e. 0, 1, 2, ..., [num_class - 1].\n",
      "  warnings.warn(label_encoder_deprecation_msg, UserWarning)\n",
      "/opt/anaconda3/envs/CarPricePrediction/lib/python3.8/site-packages/xgboost/sklearn.py:1224: UserWarning: The use of label encoder in XGBClassifier is deprecated and will be removed in a future release. To remove this warning, do the following: 1) Pass option use_label_encoder=False when constructing XGBClassifier object; and 2) Encode your labels (y) as integers starting with 0, i.e. 0, 1, 2, ..., [num_class - 1].\n",
      "  warnings.warn(label_encoder_deprecation_msg, UserWarning)\n",
      "/opt/anaconda3/envs/CarPricePrediction/lib/python3.8/site-packages/xgboost/sklearn.py:1224: UserWarning: The use of label encoder in XGBClassifier is deprecated and will be removed in a future release. To remove this warning, do the following: 1) Pass option use_label_encoder=False when constructing XGBClassifier object; and 2) Encode your labels (y) as integers starting with 0, i.e. 0, 1, 2, ..., [num_class - 1].\n",
      "  warnings.warn(label_encoder_deprecation_msg, UserWarning)\n",
      "/opt/anaconda3/envs/CarPricePrediction/lib/python3.8/site-packages/xgboost/sklearn.py:1224: UserWarning: The use of label encoder in XGBClassifier is deprecated and will be removed in a future release. To remove this warning, do the following: 1) Pass option use_label_encoder=False when constructing XGBClassifier object; and 2) Encode your labels (y) as integers starting with 0, i.e. 0, 1, 2, ..., [num_class - 1].\n",
      "  warnings.warn(label_encoder_deprecation_msg, UserWarning)\n",
      "/opt/anaconda3/envs/CarPricePrediction/lib/python3.8/site-packages/xgboost/sklearn.py:1224: UserWarning: The use of label encoder in XGBClassifier is deprecated and will be removed in a future release. To remove this warning, do the following: 1) Pass option use_label_encoder=False when constructing XGBClassifier object; and 2) Encode your labels (y) as integers starting with 0, i.e. 0, 1, 2, ..., [num_class - 1].\n",
      "  warnings.warn(label_encoder_deprecation_msg, UserWarning)\n",
      "/opt/anaconda3/envs/CarPricePrediction/lib/python3.8/site-packages/xgboost/sklearn.py:1224: UserWarning: The use of label encoder in XGBClassifier is deprecated and will be removed in a future release. To remove this warning, do the following: 1) Pass option use_label_encoder=False when constructing XGBClassifier object; and 2) Encode your labels (y) as integers starting with 0, i.e. 0, 1, 2, ..., [num_class - 1].\n",
      "  warnings.warn(label_encoder_deprecation_msg, UserWarning)\n"
     ]
    },
    {
     "name": "stdout",
     "output_type": "stream",
     "text": [
      "[13:01:51] WARNING: /Users/runner/miniforge3/conda-bld/xgboost-split_1637426408905/work/src/learner.cc:1115: Starting in XGBoost 1.3.0, the default evaluation metric used with the objective 'binary:logistic' was changed from 'error' to 'logloss'. Explicitly set eval_metric if you'd like to restore the old behavior.\n",
      "[CV 1/5] END colsample_bytree=0.5, gamma=0.3, learning_rate=0.2, max_depth=10, min_child_weight=5;, score=0.906 total time=   4.2s\n",
      "[13:01:55] WARNING: /Users/runner/miniforge3/conda-bld/xgboost-split_1637426408905/work/src/learner.cc:1115: Starting in XGBoost 1.3.0, the default evaluation metric used with the objective 'binary:logistic' was changed from 'error' to 'logloss'. Explicitly set eval_metric if you'd like to restore the old behavior.\n",
      "[CV 5/5] END colsample_bytree=0.7, gamma=0.2, learning_rate=0.1, max_depth=5, min_child_weight=1;, score=0.908 total time=   3.0s\n",
      "[13:01:58] WARNING: /Users/runner/miniforge3/conda-bld/xgboost-split_1637426408905/work/src/learner.cc:1115: Starting in XGBoost 1.3.0, the default evaluation metric used with the objective 'binary:logistic' was changed from 'error' to 'logloss'. Explicitly set eval_metric if you'd like to restore the old behavior.\n",
      "[CV 3/5] END colsample_bytree=0.5, gamma=0.3, learning_rate=0.3, max_depth=15, min_child_weight=3;, score=0.893 total time=   5.7s\n",
      "[13:01:51] WARNING: /Users/runner/miniforge3/conda-bld/xgboost-split_1637426408905/work/src/learner.cc:1115: Starting in XGBoost 1.3.0, the default evaluation metric used with the objective 'binary:logistic' was changed from 'error' to 'logloss'. Explicitly set eval_metric if you'd like to restore the old behavior.\n",
      "[CV 2/5] END colsample_bytree=0.3, gamma=0.4, learning_rate=0.05, max_depth=8, min_child_weight=7;, score=0.918 total time=   3.3s\n",
      "[13:01:54] WARNING: /Users/runner/miniforge3/conda-bld/xgboost-split_1637426408905/work/src/learner.cc:1115: Starting in XGBoost 1.3.0, the default evaluation metric used with the objective 'binary:logistic' was changed from 'error' to 'logloss'. Explicitly set eval_metric if you'd like to restore the old behavior.\n",
      "[CV 5/5] END colsample_bytree=0.3, gamma=0.4, learning_rate=0.05, max_depth=8, min_child_weight=7;, score=0.899 total time=   3.8s\n",
      "[13:01:58] WARNING: /Users/runner/miniforge3/conda-bld/xgboost-split_1637426408905/work/src/learner.cc:1115: Starting in XGBoost 1.3.0, the default evaluation metric used with the objective 'binary:logistic' was changed from 'error' to 'logloss'. Explicitly set eval_metric if you'd like to restore the old behavior.\n",
      "[CV 2/5] END colsample_bytree=0.5, gamma=0.3, learning_rate=0.3, max_depth=15, min_child_weight=3;, score=0.910 total time=   5.9s\n",
      "[13:01:51] WARNING: /Users/runner/miniforge3/conda-bld/xgboost-split_1637426408905/work/src/learner.cc:1115: Starting in XGBoost 1.3.0, the default evaluation metric used with the objective 'binary:logistic' was changed from 'error' to 'logloss'. Explicitly set eval_metric if you'd like to restore the old behavior.\n",
      "[CV 1/5] END colsample_bytree=0.3, gamma=0.4, learning_rate=0.05, max_depth=8, min_child_weight=7;, score=0.902 total time=   3.3s\n",
      "[13:01:54] WARNING: /Users/runner/miniforge3/conda-bld/xgboost-split_1637426408905/work/src/learner.cc:1115: Starting in XGBoost 1.3.0, the default evaluation metric used with the objective 'binary:logistic' was changed from 'error' to 'logloss'. Explicitly set eval_metric if you'd like to restore the old behavior.\n",
      "[CV 4/5] END colsample_bytree=0.3, gamma=0.4, learning_rate=0.05, max_depth=8, min_child_weight=7;, score=0.906 total time=   3.8s\n",
      "[13:01:58] WARNING: /Users/runner/miniforge3/conda-bld/xgboost-split_1637426408905/work/src/learner.cc:1115: Starting in XGBoost 1.3.0, the default evaluation metric used with the objective 'binary:logistic' was changed from 'error' to 'logloss'. Explicitly set eval_metric if you'd like to restore the old behavior.\n",
      "[CV 1/5] END colsample_bytree=0.5, gamma=0.3, learning_rate=0.3, max_depth=15, min_child_weight=3;, score=0.905 total time=   5.9s\n",
      "[13:01:51] WARNING: /Users/runner/miniforge3/conda-bld/xgboost-split_1637426408905/work/src/learner.cc:1115: Starting in XGBoost 1.3.0, the default evaluation metric used with the objective 'binary:logistic' was changed from 'error' to 'logloss'. Explicitly set eval_metric if you'd like to restore the old behavior.\n",
      "[CV 4/5] END colsample_bytree=0.5, gamma=0.3, learning_rate=0.2, max_depth=10, min_child_weight=5;, score=0.902 total time=   4.1s\n",
      "[13:01:55] WARNING: /Users/runner/miniforge3/conda-bld/xgboost-split_1637426408905/work/src/learner.cc:1115: Starting in XGBoost 1.3.0, the default evaluation metric used with the objective 'binary:logistic' was changed from 'error' to 'logloss'. Explicitly set eval_metric if you'd like to restore the old behavior.\n",
      "[CV 3/5] END colsample_bytree=0.7, gamma=0.2, learning_rate=0.1, max_depth=5, min_child_weight=1;, score=0.903 total time=   3.0s\n",
      "[13:01:58] WARNING: /Users/runner/miniforge3/conda-bld/xgboost-split_1637426408905/work/src/learner.cc:1115: Starting in XGBoost 1.3.0, the default evaluation metric used with the objective 'binary:logistic' was changed from 'error' to 'logloss'. Explicitly set eval_metric if you'd like to restore the old behavior.\n",
      "[CV 4/5] END colsample_bytree=0.7, gamma=0.2, learning_rate=0.2, max_depth=15, min_child_weight=5;, score=0.909 total time=   6.2s\n",
      "[13:01:51] WARNING: /Users/runner/miniforge3/conda-bld/xgboost-split_1637426408905/work/src/learner.cc:1115: Starting in XGBoost 1.3.0, the default evaluation metric used with the objective 'binary:logistic' was changed from 'error' to 'logloss'. Explicitly set eval_metric if you'd like to restore the old behavior.\n",
      "[CV 3/5] END colsample_bytree=0.5, gamma=0.3, learning_rate=0.2, max_depth=10, min_child_weight=5;, score=0.897 total time=   4.0s\n",
      "[13:01:55] WARNING: /Users/runner/miniforge3/conda-bld/xgboost-split_1637426408905/work/src/learner.cc:1115: Starting in XGBoost 1.3.0, the default evaluation metric used with the objective 'binary:logistic' was changed from 'error' to 'logloss'. Explicitly set eval_metric if you'd like to restore the old behavior.\n",
      "[CV 2/5] END colsample_bytree=0.7, gamma=0.2, learning_rate=0.1, max_depth=5, min_child_weight=1;, score=0.919 total time=   2.9s\n",
      "[13:01:58] WARNING: /Users/runner/miniforge3/conda-bld/xgboost-split_1637426408905/work/src/learner.cc:1115: Starting in XGBoost 1.3.0, the default evaluation metric used with the objective 'binary:logistic' was changed from 'error' to 'logloss'. Explicitly set eval_metric if you'd like to restore the old behavior.\n",
      "[CV 3/5] END colsample_bytree=0.7, gamma=0.2, learning_rate=0.2, max_depth=15, min_child_weight=5;, score=0.899 total time=   6.3s\n"
     ]
    },
    {
     "name": "stderr",
     "output_type": "stream",
     "text": [
      "/opt/anaconda3/envs/CarPricePrediction/lib/python3.8/site-packages/xgboost/sklearn.py:1224: UserWarning: The use of label encoder in XGBClassifier is deprecated and will be removed in a future release. To remove this warning, do the following: 1) Pass option use_label_encoder=False when constructing XGBClassifier object; and 2) Encode your labels (y) as integers starting with 0, i.e. 0, 1, 2, ..., [num_class - 1].\n",
      "  warnings.warn(label_encoder_deprecation_msg, UserWarning)\n",
      "/opt/anaconda3/envs/CarPricePrediction/lib/python3.8/site-packages/xgboost/sklearn.py:1224: UserWarning: The use of label encoder in XGBClassifier is deprecated and will be removed in a future release. To remove this warning, do the following: 1) Pass option use_label_encoder=False when constructing XGBClassifier object; and 2) Encode your labels (y) as integers starting with 0, i.e. 0, 1, 2, ..., [num_class - 1].\n",
      "  warnings.warn(label_encoder_deprecation_msg, UserWarning)\n",
      "/opt/anaconda3/envs/CarPricePrediction/lib/python3.8/site-packages/xgboost/sklearn.py:1224: UserWarning: The use of label encoder in XGBClassifier is deprecated and will be removed in a future release. To remove this warning, do the following: 1) Pass option use_label_encoder=False when constructing XGBClassifier object; and 2) Encode your labels (y) as integers starting with 0, i.e. 0, 1, 2, ..., [num_class - 1].\n",
      "  warnings.warn(label_encoder_deprecation_msg, UserWarning)\n",
      "/opt/anaconda3/envs/CarPricePrediction/lib/python3.8/site-packages/xgboost/sklearn.py:1224: UserWarning: The use of label encoder in XGBClassifier is deprecated and will be removed in a future release. To remove this warning, do the following: 1) Pass option use_label_encoder=False when constructing XGBClassifier object; and 2) Encode your labels (y) as integers starting with 0, i.e. 0, 1, 2, ..., [num_class - 1].\n",
      "  warnings.warn(label_encoder_deprecation_msg, UserWarning)\n",
      "/opt/anaconda3/envs/CarPricePrediction/lib/python3.8/site-packages/xgboost/sklearn.py:1224: UserWarning: The use of label encoder in XGBClassifier is deprecated and will be removed in a future release. To remove this warning, do the following: 1) Pass option use_label_encoder=False when constructing XGBClassifier object; and 2) Encode your labels (y) as integers starting with 0, i.e. 0, 1, 2, ..., [num_class - 1].\n",
      "  warnings.warn(label_encoder_deprecation_msg, UserWarning)\n",
      "/opt/anaconda3/envs/CarPricePrediction/lib/python3.8/site-packages/xgboost/sklearn.py:1224: UserWarning: The use of label encoder in XGBClassifier is deprecated and will be removed in a future release. To remove this warning, do the following: 1) Pass option use_label_encoder=False when constructing XGBClassifier object; and 2) Encode your labels (y) as integers starting with 0, i.e. 0, 1, 2, ..., [num_class - 1].\n",
      "  warnings.warn(label_encoder_deprecation_msg, UserWarning)\n",
      "/opt/anaconda3/envs/CarPricePrediction/lib/python3.8/site-packages/xgboost/sklearn.py:1224: UserWarning: The use of label encoder in XGBClassifier is deprecated and will be removed in a future release. To remove this warning, do the following: 1) Pass option use_label_encoder=False when constructing XGBClassifier object; and 2) Encode your labels (y) as integers starting with 0, i.e. 0, 1, 2, ..., [num_class - 1].\n",
      "  warnings.warn(label_encoder_deprecation_msg, UserWarning)\n",
      "/opt/anaconda3/envs/CarPricePrediction/lib/python3.8/site-packages/xgboost/sklearn.py:1224: UserWarning: The use of label encoder in XGBClassifier is deprecated and will be removed in a future release. To remove this warning, do the following: 1) Pass option use_label_encoder=False when constructing XGBClassifier object; and 2) Encode your labels (y) as integers starting with 0, i.e. 0, 1, 2, ..., [num_class - 1].\n",
      "  warnings.warn(label_encoder_deprecation_msg, UserWarning)\n",
      "/opt/anaconda3/envs/CarPricePrediction/lib/python3.8/site-packages/xgboost/sklearn.py:1224: UserWarning: The use of label encoder in XGBClassifier is deprecated and will be removed in a future release. To remove this warning, do the following: 1) Pass option use_label_encoder=False when constructing XGBClassifier object; and 2) Encode your labels (y) as integers starting with 0, i.e. 0, 1, 2, ..., [num_class - 1].\n",
      "  warnings.warn(label_encoder_deprecation_msg, UserWarning)\n"
     ]
    },
    {
     "name": "stdout",
     "output_type": "stream",
     "text": [
      "[13:01:51] WARNING: /Users/runner/miniforge3/conda-bld/xgboost-split_1637426408905/work/src/learner.cc:1115: Starting in XGBoost 1.3.0, the default evaluation metric used with the objective 'binary:logistic' was changed from 'error' to 'logloss'. Explicitly set eval_metric if you'd like to restore the old behavior.\n",
      "[CV 5/5] END colsample_bytree=0.5, gamma=0.3, learning_rate=0.2, max_depth=10, min_child_weight=5;, score=0.893 total time=   4.2s\n",
      "[13:01:55] WARNING: /Users/runner/miniforge3/conda-bld/xgboost-split_1637426408905/work/src/learner.cc:1115: Starting in XGBoost 1.3.0, the default evaluation metric used with the objective 'binary:logistic' was changed from 'error' to 'logloss'. Explicitly set eval_metric if you'd like to restore the old behavior.\n",
      "[CV 4/5] END colsample_bytree=0.7, gamma=0.2, learning_rate=0.1, max_depth=5, min_child_weight=1;, score=0.910 total time=   2.9s\n",
      "[13:01:58] WARNING: /Users/runner/miniforge3/conda-bld/xgboost-split_1637426408905/work/src/learner.cc:1115: Starting in XGBoost 1.3.0, the default evaluation metric used with the objective 'binary:logistic' was changed from 'error' to 'logloss'. Explicitly set eval_metric if you'd like to restore the old behavior.\n",
      "[CV 5/5] END colsample_bytree=0.7, gamma=0.2, learning_rate=0.2, max_depth=15, min_child_weight=5;, score=0.900 total time=   6.3s\n"
     ]
    },
    {
     "name": "stderr",
     "output_type": "stream",
     "text": [
      "/opt/anaconda3/envs/CarPricePrediction/lib/python3.8/site-packages/xgboost/sklearn.py:1224: UserWarning: The use of label encoder in XGBClassifier is deprecated and will be removed in a future release. To remove this warning, do the following: 1) Pass option use_label_encoder=False when constructing XGBClassifier object; and 2) Encode your labels (y) as integers starting with 0, i.e. 0, 1, 2, ..., [num_class - 1].\n",
      "  warnings.warn(label_encoder_deprecation_msg, UserWarning)\n",
      "/opt/anaconda3/envs/CarPricePrediction/lib/python3.8/site-packages/xgboost/sklearn.py:1224: UserWarning: The use of label encoder in XGBClassifier is deprecated and will be removed in a future release. To remove this warning, do the following: 1) Pass option use_label_encoder=False when constructing XGBClassifier object; and 2) Encode your labels (y) as integers starting with 0, i.e. 0, 1, 2, ..., [num_class - 1].\n",
      "  warnings.warn(label_encoder_deprecation_msg, UserWarning)\n",
      "/opt/anaconda3/envs/CarPricePrediction/lib/python3.8/site-packages/xgboost/sklearn.py:1224: UserWarning: The use of label encoder in XGBClassifier is deprecated and will be removed in a future release. To remove this warning, do the following: 1) Pass option use_label_encoder=False when constructing XGBClassifier object; and 2) Encode your labels (y) as integers starting with 0, i.e. 0, 1, 2, ..., [num_class - 1].\n",
      "  warnings.warn(label_encoder_deprecation_msg, UserWarning)\n"
     ]
    },
    {
     "name": "stdout",
     "output_type": "stream",
     "text": [
      "[13:01:51] WARNING: /Users/runner/miniforge3/conda-bld/xgboost-split_1637426408905/work/src/learner.cc:1115: Starting in XGBoost 1.3.0, the default evaluation metric used with the objective 'binary:logistic' was changed from 'error' to 'logloss'. Explicitly set eval_metric if you'd like to restore the old behavior.\n",
      "[CV 2/5] END colsample_bytree=0.5, gamma=0.3, learning_rate=0.2, max_depth=10, min_child_weight=5;, score=0.908 total time=   4.2s\n",
      "[13:01:55] WARNING: /Users/runner/miniforge3/conda-bld/xgboost-split_1637426408905/work/src/learner.cc:1115: Starting in XGBoost 1.3.0, the default evaluation metric used with the objective 'binary:logistic' was changed from 'error' to 'logloss'. Explicitly set eval_metric if you'd like to restore the old behavior.\n",
      "[CV 1/5] END colsample_bytree=0.7, gamma=0.2, learning_rate=0.2, max_depth=15, min_child_weight=5;, score=0.900 total time=   6.7s\n",
      "[13:02:02] WARNING: /Users/runner/miniforge3/conda-bld/xgboost-split_1637426408905/work/src/learner.cc:1115: Starting in XGBoost 1.3.0, the default evaluation metric used with the objective 'binary:logistic' was changed from 'error' to 'logloss'. Explicitly set eval_metric if you'd like to restore the old behavior.\n",
      "[CV 4/5] END colsample_bytree=0.5, gamma=0.3, learning_rate=0.3, max_depth=15, min_child_weight=3;, score=0.904 total time=   3.0s\n",
      "[13:01:51] WARNING: /Users/runner/miniforge3/conda-bld/xgboost-split_1637426408905/work/src/learner.cc:1115: Starting in XGBoost 1.3.0, the default evaluation metric used with the objective 'binary:logistic' was changed from 'error' to 'logloss'. Explicitly set eval_metric if you'd like to restore the old behavior.\n",
      "[CV 3/5] END colsample_bytree=0.3, gamma=0.4, learning_rate=0.05, max_depth=8, min_child_weight=7;, score=0.894 total time=   3.4s\n",
      "[13:01:54] WARNING: /Users/runner/miniforge3/conda-bld/xgboost-split_1637426408905/work/src/learner.cc:1115: Starting in XGBoost 1.3.0, the default evaluation metric used with the objective 'binary:logistic' was changed from 'error' to 'logloss'. Explicitly set eval_metric if you'd like to restore the old behavior.\n",
      "[CV 1/5] END colsample_bytree=0.7, gamma=0.2, learning_rate=0.1, max_depth=5, min_child_weight=1;, score=0.912 total time=   2.8s\n",
      "[13:01:57] WARNING: /Users/runner/miniforge3/conda-bld/xgboost-split_1637426408905/work/src/learner.cc:1115: Starting in XGBoost 1.3.0, the default evaluation metric used with the objective 'binary:logistic' was changed from 'error' to 'logloss'. Explicitly set eval_metric if you'd like to restore the old behavior.\n",
      "[CV 2/5] END colsample_bytree=0.7, gamma=0.2, learning_rate=0.2, max_depth=15, min_child_weight=5;, score=0.913 total time=   6.5s\n",
      "[13:02:03] WARNING: /Users/runner/miniforge3/conda-bld/xgboost-split_1637426408905/work/src/learner.cc:1115: Starting in XGBoost 1.3.0, the default evaluation metric used with the objective 'binary:logistic' was changed from 'error' to 'logloss'. Explicitly set eval_metric if you'd like to restore the old behavior.\n",
      "[CV 5/5] END colsample_bytree=0.5, gamma=0.3, learning_rate=0.3, max_depth=15, min_child_weight=3;, score=0.899 total time=   1.5s\n"
     ]
    },
    {
     "name": "stderr",
     "output_type": "stream",
     "text": [
      "/opt/anaconda3/envs/CarPricePrediction/lib/python3.8/site-packages/xgboost/sklearn.py:1224: UserWarning: The use of label encoder in XGBClassifier is deprecated and will be removed in a future release. To remove this warning, do the following: 1) Pass option use_label_encoder=False when constructing XGBClassifier object; and 2) Encode your labels (y) as integers starting with 0, i.e. 0, 1, 2, ..., [num_class - 1].\n",
      "  warnings.warn(label_encoder_deprecation_msg, UserWarning)\n",
      "/opt/anaconda3/envs/CarPricePrediction/lib/python3.8/site-packages/xgboost/sklearn.py:1224: UserWarning: The use of label encoder in XGBClassifier is deprecated and will be removed in a future release. To remove this warning, do the following: 1) Pass option use_label_encoder=False when constructing XGBClassifier object; and 2) Encode your labels (y) as integers starting with 0, i.e. 0, 1, 2, ..., [num_class - 1].\n",
      "  warnings.warn(label_encoder_deprecation_msg, UserWarning)\n",
      "/opt/anaconda3/envs/CarPricePrediction/lib/python3.8/site-packages/xgboost/sklearn.py:1224: UserWarning: The use of label encoder in XGBClassifier is deprecated and will be removed in a future release. To remove this warning, do the following: 1) Pass option use_label_encoder=False when constructing XGBClassifier object; and 2) Encode your labels (y) as integers starting with 0, i.e. 0, 1, 2, ..., [num_class - 1].\n",
      "  warnings.warn(label_encoder_deprecation_msg, UserWarning)\n",
      "/opt/anaconda3/envs/CarPricePrediction/lib/python3.8/site-packages/xgboost/sklearn.py:1224: UserWarning: The use of label encoder in XGBClassifier is deprecated and will be removed in a future release. To remove this warning, do the following: 1) Pass option use_label_encoder=False when constructing XGBClassifier object; and 2) Encode your labels (y) as integers starting with 0, i.e. 0, 1, 2, ..., [num_class - 1].\n",
      "  warnings.warn(label_encoder_deprecation_msg, UserWarning)\n",
      "/opt/anaconda3/envs/CarPricePrediction/lib/python3.8/site-packages/xgboost/sklearn.py:1224: UserWarning: The use of label encoder in XGBClassifier is deprecated and will be removed in a future release. To remove this warning, do the following: 1) Pass option use_label_encoder=False when constructing XGBClassifier object; and 2) Encode your labels (y) as integers starting with 0, i.e. 0, 1, 2, ..., [num_class - 1].\n",
      "  warnings.warn(label_encoder_deprecation_msg, UserWarning)\n",
      "/opt/anaconda3/envs/CarPricePrediction/lib/python3.8/site-packages/xgboost/sklearn.py:1224: UserWarning: The use of label encoder in XGBClassifier is deprecated and will be removed in a future release. To remove this warning, do the following: 1) Pass option use_label_encoder=False when constructing XGBClassifier object; and 2) Encode your labels (y) as integers starting with 0, i.e. 0, 1, 2, ..., [num_class - 1].\n",
      "  warnings.warn(label_encoder_deprecation_msg, UserWarning)\n",
      "/opt/anaconda3/envs/CarPricePrediction/lib/python3.8/site-packages/xgboost/sklearn.py:1224: UserWarning: The use of label encoder in XGBClassifier is deprecated and will be removed in a future release. To remove this warning, do the following: 1) Pass option use_label_encoder=False when constructing XGBClassifier object; and 2) Encode your labels (y) as integers starting with 0, i.e. 0, 1, 2, ..., [num_class - 1].\n",
      "  warnings.warn(label_encoder_deprecation_msg, UserWarning)\n"
     ]
    }
   ],
   "source": [
    "random_search.best_estimator_"
   ]
  },
  {
   "cell_type": "code",
   "execution_count": 47,
   "id": "ae7c899f",
   "metadata": {},
   "outputs": [],
   "source": [
    "classifier= XGBClassifier(base_score=0.5, booster='gbtree', colsample_bylevel=1,\n",
    "              colsample_bynode=1, colsample_bytree=0.7,\n",
    "              enable_categorical=False, gamma=0.2, gpu_id=-1,\n",
    "              importance_type=None, interaction_constraints='',\n",
    "              learning_rate=0.1, max_delta_step=0, max_depth=5,\n",
    "              min_child_weight=1, monotone_constraints='()',\n",
    "              n_estimators=100, n_jobs=8, num_parallel_tree=1, predictor='auto',\n",
    "              random_state=0, reg_alpha=0, reg_lambda=1, scale_pos_weight=1,\n",
    "              subsample=1, tree_method='exact', validate_parameters=1,\n",
    "              verbosity=None)"
   ]
  },
  {
   "cell_type": "code",
   "execution_count": 38,
   "id": "a5d71545",
   "metadata": {},
   "outputs": [],
   "source": [
    "from sklearn.model_selection import cross_val_score\n",
    "from sklearn.metrics import accuracy_score,precision_score,recall_score,confusion_matrix,classification_report"
   ]
  },
  {
   "cell_type": "code",
   "execution_count": 41,
   "id": "2fddeb0a",
   "metadata": {},
   "outputs": [
    {
     "name": "stderr",
     "output_type": "stream",
     "text": [
      "/opt/anaconda3/envs/CarPricePrediction/lib/python3.8/site-packages/xgboost/sklearn.py:1224: UserWarning: The use of label encoder in XGBClassifier is deprecated and will be removed in a future release. To remove this warning, do the following: 1) Pass option use_label_encoder=False when constructing XGBClassifier object; and 2) Encode your labels (y) as integers starting with 0, i.e. 0, 1, 2, ..., [num_class - 1].\n",
      "  warnings.warn(label_encoder_deprecation_msg, UserWarning)\n"
     ]
    },
    {
     "name": "stdout",
     "output_type": "stream",
     "text": [
      "[13:13:03] WARNING: /Users/runner/miniforge3/conda-bld/xgboost-split_1637426408905/work/src/learner.cc:1115: Starting in XGBoost 1.3.0, the default evaluation metric used with the objective 'binary:logistic' was changed from 'error' to 'logloss'. Explicitly set eval_metric if you'd like to restore the old behavior.\n"
     ]
    },
    {
     "name": "stderr",
     "output_type": "stream",
     "text": [
      "/opt/anaconda3/envs/CarPricePrediction/lib/python3.8/site-packages/xgboost/sklearn.py:1224: UserWarning: The use of label encoder in XGBClassifier is deprecated and will be removed in a future release. To remove this warning, do the following: 1) Pass option use_label_encoder=False when constructing XGBClassifier object; and 2) Encode your labels (y) as integers starting with 0, i.e. 0, 1, 2, ..., [num_class - 1].\n",
      "  warnings.warn(label_encoder_deprecation_msg, UserWarning)\n"
     ]
    },
    {
     "name": "stdout",
     "output_type": "stream",
     "text": [
      "[13:13:03] WARNING: /Users/runner/miniforge3/conda-bld/xgboost-split_1637426408905/work/src/learner.cc:1115: Starting in XGBoost 1.3.0, the default evaluation metric used with the objective 'binary:logistic' was changed from 'error' to 'logloss'. Explicitly set eval_metric if you'd like to restore the old behavior.\n"
     ]
    },
    {
     "name": "stderr",
     "output_type": "stream",
     "text": [
      "/opt/anaconda3/envs/CarPricePrediction/lib/python3.8/site-packages/xgboost/sklearn.py:1224: UserWarning: The use of label encoder in XGBClassifier is deprecated and will be removed in a future release. To remove this warning, do the following: 1) Pass option use_label_encoder=False when constructing XGBClassifier object; and 2) Encode your labels (y) as integers starting with 0, i.e. 0, 1, 2, ..., [num_class - 1].\n",
      "  warnings.warn(label_encoder_deprecation_msg, UserWarning)\n"
     ]
    },
    {
     "name": "stdout",
     "output_type": "stream",
     "text": [
      "[13:13:04] WARNING: /Users/runner/miniforge3/conda-bld/xgboost-split_1637426408905/work/src/learner.cc:1115: Starting in XGBoost 1.3.0, the default evaluation metric used with the objective 'binary:logistic' was changed from 'error' to 'logloss'. Explicitly set eval_metric if you'd like to restore the old behavior.\n"
     ]
    },
    {
     "name": "stderr",
     "output_type": "stream",
     "text": [
      "/opt/anaconda3/envs/CarPricePrediction/lib/python3.8/site-packages/xgboost/sklearn.py:1224: UserWarning: The use of label encoder in XGBClassifier is deprecated and will be removed in a future release. To remove this warning, do the following: 1) Pass option use_label_encoder=False when constructing XGBClassifier object; and 2) Encode your labels (y) as integers starting with 0, i.e. 0, 1, 2, ..., [num_class - 1].\n",
      "  warnings.warn(label_encoder_deprecation_msg, UserWarning)\n"
     ]
    },
    {
     "name": "stdout",
     "output_type": "stream",
     "text": [
      "[13:13:04] WARNING: /Users/runner/miniforge3/conda-bld/xgboost-split_1637426408905/work/src/learner.cc:1115: Starting in XGBoost 1.3.0, the default evaluation metric used with the objective 'binary:logistic' was changed from 'error' to 'logloss'. Explicitly set eval_metric if you'd like to restore the old behavior.\n"
     ]
    },
    {
     "name": "stderr",
     "output_type": "stream",
     "text": [
      "/opt/anaconda3/envs/CarPricePrediction/lib/python3.8/site-packages/xgboost/sklearn.py:1224: UserWarning: The use of label encoder in XGBClassifier is deprecated and will be removed in a future release. To remove this warning, do the following: 1) Pass option use_label_encoder=False when constructing XGBClassifier object; and 2) Encode your labels (y) as integers starting with 0, i.e. 0, 1, 2, ..., [num_class - 1].\n",
      "  warnings.warn(label_encoder_deprecation_msg, UserWarning)\n"
     ]
    },
    {
     "name": "stdout",
     "output_type": "stream",
     "text": [
      "[13:13:04] WARNING: /Users/runner/miniforge3/conda-bld/xgboost-split_1637426408905/work/src/learner.cc:1115: Starting in XGBoost 1.3.0, the default evaluation metric used with the objective 'binary:logistic' was changed from 'error' to 'logloss'. Explicitly set eval_metric if you'd like to restore the old behavior.\n"
     ]
    },
    {
     "name": "stderr",
     "output_type": "stream",
     "text": [
      "/opt/anaconda3/envs/CarPricePrediction/lib/python3.8/site-packages/xgboost/sklearn.py:1224: UserWarning: The use of label encoder in XGBClassifier is deprecated and will be removed in a future release. To remove this warning, do the following: 1) Pass option use_label_encoder=False when constructing XGBClassifier object; and 2) Encode your labels (y) as integers starting with 0, i.e. 0, 1, 2, ..., [num_class - 1].\n",
      "  warnings.warn(label_encoder_deprecation_msg, UserWarning)\n"
     ]
    },
    {
     "name": "stdout",
     "output_type": "stream",
     "text": [
      "[13:13:04] WARNING: /Users/runner/miniforge3/conda-bld/xgboost-split_1637426408905/work/src/learner.cc:1115: Starting in XGBoost 1.3.0, the default evaluation metric used with the objective 'binary:logistic' was changed from 'error' to 'logloss'. Explicitly set eval_metric if you'd like to restore the old behavior.\n"
     ]
    },
    {
     "name": "stderr",
     "output_type": "stream",
     "text": [
      "/opt/anaconda3/envs/CarPricePrediction/lib/python3.8/site-packages/xgboost/sklearn.py:1224: UserWarning: The use of label encoder in XGBClassifier is deprecated and will be removed in a future release. To remove this warning, do the following: 1) Pass option use_label_encoder=False when constructing XGBClassifier object; and 2) Encode your labels (y) as integers starting with 0, i.e. 0, 1, 2, ..., [num_class - 1].\n",
      "  warnings.warn(label_encoder_deprecation_msg, UserWarning)\n"
     ]
    },
    {
     "name": "stdout",
     "output_type": "stream",
     "text": [
      "[13:13:05] WARNING: /Users/runner/miniforge3/conda-bld/xgboost-split_1637426408905/work/src/learner.cc:1115: Starting in XGBoost 1.3.0, the default evaluation metric used with the objective 'binary:logistic' was changed from 'error' to 'logloss'. Explicitly set eval_metric if you'd like to restore the old behavior.\n"
     ]
    },
    {
     "name": "stderr",
     "output_type": "stream",
     "text": [
      "/opt/anaconda3/envs/CarPricePrediction/lib/python3.8/site-packages/xgboost/sklearn.py:1224: UserWarning: The use of label encoder in XGBClassifier is deprecated and will be removed in a future release. To remove this warning, do the following: 1) Pass option use_label_encoder=False when constructing XGBClassifier object; and 2) Encode your labels (y) as integers starting with 0, i.e. 0, 1, 2, ..., [num_class - 1].\n",
      "  warnings.warn(label_encoder_deprecation_msg, UserWarning)\n"
     ]
    },
    {
     "name": "stdout",
     "output_type": "stream",
     "text": [
      "[13:13:05] WARNING: /Users/runner/miniforge3/conda-bld/xgboost-split_1637426408905/work/src/learner.cc:1115: Starting in XGBoost 1.3.0, the default evaluation metric used with the objective 'binary:logistic' was changed from 'error' to 'logloss'. Explicitly set eval_metric if you'd like to restore the old behavior.\n"
     ]
    },
    {
     "name": "stderr",
     "output_type": "stream",
     "text": [
      "/opt/anaconda3/envs/CarPricePrediction/lib/python3.8/site-packages/xgboost/sklearn.py:1224: UserWarning: The use of label encoder in XGBClassifier is deprecated and will be removed in a future release. To remove this warning, do the following: 1) Pass option use_label_encoder=False when constructing XGBClassifier object; and 2) Encode your labels (y) as integers starting with 0, i.e. 0, 1, 2, ..., [num_class - 1].\n",
      "  warnings.warn(label_encoder_deprecation_msg, UserWarning)\n"
     ]
    },
    {
     "name": "stdout",
     "output_type": "stream",
     "text": [
      "[13:13:05] WARNING: /Users/runner/miniforge3/conda-bld/xgboost-split_1637426408905/work/src/learner.cc:1115: Starting in XGBoost 1.3.0, the default evaluation metric used with the objective 'binary:logistic' was changed from 'error' to 'logloss'. Explicitly set eval_metric if you'd like to restore the old behavior.\n"
     ]
    },
    {
     "name": "stderr",
     "output_type": "stream",
     "text": [
      "/opt/anaconda3/envs/CarPricePrediction/lib/python3.8/site-packages/xgboost/sklearn.py:1224: UserWarning: The use of label encoder in XGBClassifier is deprecated and will be removed in a future release. To remove this warning, do the following: 1) Pass option use_label_encoder=False when constructing XGBClassifier object; and 2) Encode your labels (y) as integers starting with 0, i.e. 0, 1, 2, ..., [num_class - 1].\n",
      "  warnings.warn(label_encoder_deprecation_msg, UserWarning)\n"
     ]
    },
    {
     "name": "stdout",
     "output_type": "stream",
     "text": [
      "[13:13:06] WARNING: /Users/runner/miniforge3/conda-bld/xgboost-split_1637426408905/work/src/learner.cc:1115: Starting in XGBoost 1.3.0, the default evaluation metric used with the objective 'binary:logistic' was changed from 'error' to 'logloss'. Explicitly set eval_metric if you'd like to restore the old behavior.\n"
     ]
    }
   ],
   "source": [
    "cross = cross_val_score(classifier,x_train,y_train,cv=10,verbose=0)"
   ]
  },
  {
   "cell_type": "code",
   "execution_count": 45,
   "id": "62a19454",
   "metadata": {},
   "outputs": [
    {
     "name": "stdout",
     "output_type": "stream",
     "text": [
      "Accuracy after cross validation is:84.368540545499\n"
     ]
    }
   ],
   "source": [
    "print(\"Accuracy after cross validation is:{}\".format(cross.mean()*100))"
   ]
  },
  {
   "cell_type": "markdown",
   "id": "6fba6510",
   "metadata": {},
   "source": [
    "### Lets Predict the values"
   ]
  },
  {
   "cell_type": "code",
   "execution_count": 49,
   "id": "a6470b7e",
   "metadata": {},
   "outputs": [
    {
     "name": "stderr",
     "output_type": "stream",
     "text": [
      "/opt/anaconda3/envs/CarPricePrediction/lib/python3.8/site-packages/xgboost/sklearn.py:1224: UserWarning: The use of label encoder in XGBClassifier is deprecated and will be removed in a future release. To remove this warning, do the following: 1) Pass option use_label_encoder=False when constructing XGBClassifier object; and 2) Encode your labels (y) as integers starting with 0, i.e. 0, 1, 2, ..., [num_class - 1].\n",
      "  warnings.warn(label_encoder_deprecation_msg, UserWarning)\n"
     ]
    },
    {
     "name": "stdout",
     "output_type": "stream",
     "text": [
      "[13:16:56] WARNING: /Users/runner/miniforge3/conda-bld/xgboost-split_1637426408905/work/src/learner.cc:1115: Starting in XGBoost 1.3.0, the default evaluation metric used with the objective 'binary:logistic' was changed from 'error' to 'logloss'. Explicitly set eval_metric if you'd like to restore the old behavior.\n"
     ]
    },
    {
     "data": {
      "text/plain": [
       "XGBClassifier(base_score=0.5, booster='gbtree', colsample_bylevel=1,\n",
       "              colsample_bynode=1, colsample_bytree=0.7,\n",
       "              enable_categorical=False, gamma=0.2, gpu_id=-1,\n",
       "              importance_type=None, interaction_constraints='',\n",
       "              learning_rate=0.1, max_delta_step=0, max_depth=5,\n",
       "              min_child_weight=1, missing=nan, monotone_constraints='()',\n",
       "              n_estimators=100, n_jobs=8, num_parallel_tree=1, predictor='auto',\n",
       "              random_state=0, reg_alpha=0, reg_lambda=1, scale_pos_weight=1,\n",
       "              subsample=1, tree_method='exact', validate_parameters=1,\n",
       "              verbosity=None)"
      ]
     },
     "execution_count": 49,
     "metadata": {},
     "output_type": "execute_result"
    }
   ],
   "source": [
    "classifier.fit(x_train,y_train)"
   ]
  },
  {
   "cell_type": "code",
   "execution_count": 51,
   "id": "9dd76d2c",
   "metadata": {},
   "outputs": [],
   "source": [
    "y_pred = classifier.predict(x_test)"
   ]
  },
  {
   "cell_type": "code",
   "execution_count": 55,
   "id": "e85f9b21",
   "metadata": {},
   "outputs": [
    {
     "name": "stdout",
     "output_type": "stream",
     "text": [
      "              precision    recall  f1-score   support\n",
      "\n",
      "           0       0.88      0.77      0.82       608\n",
      "           1       0.82      0.90      0.86       672\n",
      "\n",
      "    accuracy                           0.84      1280\n",
      "   macro avg       0.85      0.84      0.84      1280\n",
      "weighted avg       0.85      0.84      0.84      1280\n",
      "\n"
     ]
    }
   ],
   "source": [
    "print(classification_report(y_test,y_pred))"
   ]
  },
  {
   "cell_type": "code",
   "execution_count": 66,
   "id": "a09dc98b",
   "metadata": {},
   "outputs": [
    {
     "data": {
      "text/plain": [
       "Text(33.0, 0.5, 'Actual')"
      ]
     },
     "execution_count": 66,
     "metadata": {},
     "output_type": "execute_result"
    },
    {
     "data": {
      "image/png": "[encoded data removed]",
      "text/plain": [
       "<Figure size 432x288 with 2 Axes>"
      ]
     },
     "metadata": {
      "needs_background": "light"
     },
     "output_type": "display_data"
    }
   ],
   "source": [
    "cm = confusion_matrix(y_test,y_pred)\n",
    "sns.heatmap(cm,annot=True,fmt=\"g\")\n",
    "plt.xlabel('Predicted')\n",
    "plt.ylabel('Actual')"
   ]
  },
  {
   "cell_type": "markdown",
   "id": "d60c313d",
   "metadata": {},
   "source": [
    "For XGBClassifier, we got the following reports while guessing a hit song:\n",
    "\n",
    "#### Overall Model Accuracy : 84%\n",
    "\n",
    "#### Precision : 82%\n",
    "\n",
    "#### Recall: 90%"
   ]
  },
  {
   "cell_type": "markdown",
   "id": "1ef5e6e0",
   "metadata": {},
   "source": [
    "### KNN(K-Nearest Neighbors)"
   ]
  },
  {
   "cell_type": "code",
   "execution_count": 68,
   "id": "215e31ad",
   "metadata": {},
   "outputs": [],
   "source": [
    "from sklearn.neighbors import KNeighborsClassifier"
   ]
  },
  {
   "cell_type": "markdown",
   "id": "e6e0db4d",
   "metadata": {},
   "source": [
    "#### Finding the optimal K value for the KNN Classifier"
   ]
  },
  {
   "cell_type": "code",
   "execution_count": 70,
   "id": "a5ca2657",
   "metadata": {},
   "outputs": [],
   "source": [
    "error_rate=[]\n",
    "for i in range(1,40):\n",
    "    knn = KNeighborsClassifier(n_neighbors=i)\n",
    "    knn.fit(x_train,y_train)\n",
    "    pred_i = knn.predict(x_test)\n",
    "    error_rate.append(np.mean(pred_i!=y_test))"
   ]
  },
  {
   "cell_type": "markdown",
   "id": "b48c8bc4",
   "metadata": {},
   "source": [
    "#### Plotting the error rates for better visualization"
   ]
  },
  {
   "cell_type": "code",
   "execution_count": 71,
   "id": "2a87fea8",
   "metadata": {},
   "outputs": [
    {
     "data": {
      "text/plain": [
       "Text(0, 0.5, 'Error rate')"
      ]
     },
     "execution_count": 71,
     "metadata": {},
     "output_type": "execute_result"
    },
    {
     "data": {
      "image/png": "[encoded data removed]",
      "text/plain": [
       "<Figure size 720x432 with 1 Axes>"
      ]
     },
     "metadata": {
      "needs_background": "light"
     },
     "output_type": "display_data"
    }
   ],
   "source": [
    "plt.figure(figsize=(10,6))\n",
    "plt.plot(range(1,40),error_rate,color=\"blue\",linestyle=\"dashed\",marker='o')\n",
    "plt.title(\"K value vs Error Rate\")\n",
    "plt.xlabel(\"K values\")\n",
    "plt.ylabel(\"Error rate\")"
   ]
  },
  {
   "cell_type": "markdown",
   "id": "5359db0b",
   "metadata": {},
   "source": [
    "#### Initializing the KNN model"
   ]
  },
  {
   "cell_type": "code",
   "execution_count": 81,
   "id": "012e9b8f",
   "metadata": {},
   "outputs": [],
   "source": [
    "knn = KNeighborsClassifier(n_neighbors=37)"
   ]
  },
  {
   "cell_type": "markdown",
   "id": "5bb880f8",
   "metadata": {},
   "source": [
    "#### Fitting the KNN Model"
   ]
  },
  {
   "cell_type": "code",
   "execution_count": 82,
   "id": "28aafe60",
   "metadata": {},
   "outputs": [
    {
     "data": {
      "text/plain": [
       "KNeighborsClassifier(n_neighbors=37)"
      ]
     },
     "execution_count": 82,
     "metadata": {},
     "output_type": "execute_result"
    }
   ],
   "source": [
    "knn.fit(x_train,y_train)"
   ]
  },
  {
   "cell_type": "markdown",
   "id": "8ab45f2b",
   "metadata": {},
   "source": [
    "#### Predicting the value for test data"
   ]
  },
  {
   "cell_type": "code",
   "execution_count": 83,
   "id": "b2aa2b07",
   "metadata": {},
   "outputs": [],
   "source": [
    "y_predicted = knn.predict(x_test)"
   ]
  },
  {
   "cell_type": "markdown",
   "id": "8b4d2c27",
   "metadata": {},
   "source": [
    "#### Generating a Classification Report"
   ]
  },
  {
   "cell_type": "code",
   "execution_count": 84,
   "id": "16fcff45",
   "metadata": {},
   "outputs": [
    {
     "name": "stdout",
     "output_type": "stream",
     "text": [
      "              precision    recall  f1-score   support\n",
      "\n",
      "           0       0.65      0.57      0.61       608\n",
      "           1       0.65      0.72      0.69       672\n",
      "\n",
      "    accuracy                           0.65      1280\n",
      "   macro avg       0.65      0.65      0.65      1280\n",
      "weighted avg       0.65      0.65      0.65      1280\n",
      "\n"
     ]
    }
   ],
   "source": [
    "print(classification_report(y_test,y_predicted))"
   ]
  },
  {
   "cell_type": "code",
   "execution_count": 86,
   "id": "023ebf39",
   "metadata": {},
   "outputs": [
    {
     "data": {
      "text/plain": [
       "Text(33.0, 0.5, 'Actual')"
      ]
     },
     "execution_count": 86,
     "metadata": {},
     "output_type": "execute_result"
    },
    {
     "data": {
      "image/png": "[encoded data removed]",
      "text/plain": [
       "<Figure size 432x288 with 2 Axes>"
      ]
     },
     "metadata": {
      "needs_background": "light"
     },
     "output_type": "display_data"
    }
   ],
   "source": [
    "conf = confusion_matrix(y_test,y_predicted)\n",
    "sns.heatmap(conf,annot=True,fmt='g')\n",
    "plt.xlabel('Predicted')\n",
    "plt.ylabel('Actual')"
   ]
  },
  {
   "cell_type": "markdown",
   "id": "80f06c06",
   "metadata": {},
   "source": [
    "For K-Nearest Neighbors Classifier, we got the following reports while guessing a hit song:\n",
    "\n",
    "#### Overall Model Accuracy : 65%\n",
    "\n",
    "#### Precision : 65%\n",
    "\n",
    "#### Recall: 72%"
   ]
  },
  {
   "cell_type": "markdown",
   "id": "2a0a5145",
   "metadata": {},
   "source": [
    "### Lets store our trained model in a file"
   ]
  },
  {
   "cell_type": "code",
   "execution_count": 90,
   "id": "0fa82182",
   "metadata": {},
   "outputs": [],
   "source": [
    "import pickle"
   ]
  },
  {
   "cell_type": "markdown",
   "id": "b70239ca",
   "metadata": {},
   "source": [
    "### Opening the file where we wish to store the model"
   ]
  },
  {
   "cell_type": "code",
   "execution_count": 94,
   "id": "acd5014b",
   "metadata": {},
   "outputs": [],
   "source": [
    "file = open(\"xgb_spotify_model.pickle\",\"wb\")"
   ]
  },
  {
   "cell_type": "markdown",
   "id": "30d11c46",
   "metadata": {},
   "source": [
    "### Dumping the model in that file"
   ]
  },
  {
   "cell_type": "code",
   "execution_count": 101,
   "id": "f2c460d1",
   "metadata": {},
   "outputs": [],
   "source": [
    "import joblib"
   ]
  },
  {
   "cell_type": "markdown",
   "id": "4cbf9994",
   "metadata": {},
   "source": [
    "Model making with XGB"
   ]
  },
  {
   "cell_type": "code",
   "execution_count": 103,
   "id": "b7ca7077",
   "metadata": {},
   "outputs": [],
   "source": [
    "model = XGBClassifier(base_score=0.5, booster='gbtree', colsample_bylevel=1,\n",
    "              colsample_bynode=1, colsample_bytree=0.7,\n",
    "              enable_categorical=False, gamma=0.2, gpu_id=-1,\n",
    "              importance_type=None, interaction_constraints='',\n",
    "              learning_rate=0.1, max_delta_step=0, max_depth=5,\n",
    "              min_child_weight=1, monotone_constraints='()',\n",
    "              n_estimators=100, n_jobs=8, num_parallel_tree=1, predictor='auto',\n",
    "              random_state=0, reg_alpha=0, reg_lambda=1, scale_pos_weight=1,\n",
    "              subsample=1, tree_method='exact', validate_parameters=1,\n",
    "              verbosity=None)"
   ]
  },
  {
   "cell_type": "code",
   "execution_count": 104,
   "id": "d1c647dd",
   "metadata": {},
   "outputs": [
    {
     "name": "stderr",
     "output_type": "stream",
     "text": [
      "/opt/anaconda3/envs/CarPricePrediction/lib/python3.8/site-packages/xgboost/sklearn.py:1224: UserWarning: The use of label encoder in XGBClassifier is deprecated and will be removed in a future release. To remove this warning, do the following: 1) Pass option use_label_encoder=False when constructing XGBClassifier object; and 2) Encode your labels (y) as integers starting with 0, i.e. 0, 1, 2, ..., [num_class - 1].\n",
      "  warnings.warn(label_encoder_deprecation_msg, UserWarning)\n"
     ]
    },
    {
     "name": "stdout",
     "output_type": "stream",
     "text": [
      "[16:29:16] WARNING: /Users/runner/miniforge3/conda-bld/xgboost-split_1637426408905/work/src/learner.cc:1115: Starting in XGBoost 1.3.0, the default evaluation metric used with the objective 'binary:logistic' was changed from 'error' to 'logloss'. Explicitly set eval_metric if you'd like to restore the old behavior.\n"
     ]
    },
    {
     "name": "stderr",
     "output_type": "stream",
     "text": [
      "/opt/anaconda3/envs/CarPricePrediction/lib/python3.8/site-packages/xgboost/sklearn.py:1224: UserWarning: The use of label encoder in XGBClassifier is deprecated and will be removed in a future release. To remove this warning, do the following: 1) Pass option use_label_encoder=False when constructing XGBClassifier object; and 2) Encode your labels (y) as integers starting with 0, i.e. 0, 1, 2, ..., [num_class - 1].\n",
      "  warnings.warn(label_encoder_deprecation_msg, UserWarning)\n"
     ]
    },
    {
     "name": "stdout",
     "output_type": "stream",
     "text": [
      "[16:29:16] WARNING: /Users/runner/miniforge3/conda-bld/xgboost-split_1637426408905/work/src/learner.cc:1115: Starting in XGBoost 1.3.0, the default evaluation metric used with the objective 'binary:logistic' was changed from 'error' to 'logloss'. Explicitly set eval_metric if you'd like to restore the old behavior.\n"
     ]
    },
    {
     "name": "stderr",
     "output_type": "stream",
     "text": [
      "/opt/anaconda3/envs/CarPricePrediction/lib/python3.8/site-packages/xgboost/sklearn.py:1224: UserWarning: The use of label encoder in XGBClassifier is deprecated and will be removed in a future release. To remove this warning, do the following: 1) Pass option use_label_encoder=False when constructing XGBClassifier object; and 2) Encode your labels (y) as integers starting with 0, i.e. 0, 1, 2, ..., [num_class - 1].\n",
      "  warnings.warn(label_encoder_deprecation_msg, UserWarning)\n"
     ]
    },
    {
     "name": "stdout",
     "output_type": "stream",
     "text": [
      "[16:29:17] WARNING: /Users/runner/miniforge3/conda-bld/xgboost-split_1637426408905/work/src/learner.cc:1115: Starting in XGBoost 1.3.0, the default evaluation metric used with the objective 'binary:logistic' was changed from 'error' to 'logloss'. Explicitly set eval_metric if you'd like to restore the old behavior.\n"
     ]
    },
    {
     "name": "stderr",
     "output_type": "stream",
     "text": [
      "/opt/anaconda3/envs/CarPricePrediction/lib/python3.8/site-packages/xgboost/sklearn.py:1224: UserWarning: The use of label encoder in XGBClassifier is deprecated and will be removed in a future release. To remove this warning, do the following: 1) Pass option use_label_encoder=False when constructing XGBClassifier object; and 2) Encode your labels (y) as integers starting with 0, i.e. 0, 1, 2, ..., [num_class - 1].\n",
      "  warnings.warn(label_encoder_deprecation_msg, UserWarning)\n"
     ]
    },
    {
     "name": "stdout",
     "output_type": "stream",
     "text": [
      "[16:29:17] WARNING: /Users/runner/miniforge3/conda-bld/xgboost-split_1637426408905/work/src/learner.cc:1115: Starting in XGBoost 1.3.0, the default evaluation metric used with the objective 'binary:logistic' was changed from 'error' to 'logloss'. Explicitly set eval_metric if you'd like to restore the old behavior.\n"
     ]
    },
    {
     "name": "stderr",
     "output_type": "stream",
     "text": [
      "/opt/anaconda3/envs/CarPricePrediction/lib/python3.8/site-packages/xgboost/sklearn.py:1224: UserWarning: The use of label encoder in XGBClassifier is deprecated and will be removed in a future release. To remove this warning, do the following: 1) Pass option use_label_encoder=False when constructing XGBClassifier object; and 2) Encode your labels (y) as integers starting with 0, i.e. 0, 1, 2, ..., [num_class - 1].\n",
      "  warnings.warn(label_encoder_deprecation_msg, UserWarning)\n"
     ]
    },
    {
     "name": "stdout",
     "output_type": "stream",
     "text": [
      "[16:29:18] WARNING: /Users/runner/miniforge3/conda-bld/xgboost-split_1637426408905/work/src/learner.cc:1115: Starting in XGBoost 1.3.0, the default evaluation metric used with the objective 'binary:logistic' was changed from 'error' to 'logloss'. Explicitly set eval_metric if you'd like to restore the old behavior.\n"
     ]
    },
    {
     "name": "stderr",
     "output_type": "stream",
     "text": [
      "/opt/anaconda3/envs/CarPricePrediction/lib/python3.8/site-packages/xgboost/sklearn.py:1224: UserWarning: The use of label encoder in XGBClassifier is deprecated and will be removed in a future release. To remove this warning, do the following: 1) Pass option use_label_encoder=False when constructing XGBClassifier object; and 2) Encode your labels (y) as integers starting with 0, i.e. 0, 1, 2, ..., [num_class - 1].\n",
      "  warnings.warn(label_encoder_deprecation_msg, UserWarning)\n"
     ]
    },
    {
     "name": "stdout",
     "output_type": "stream",
     "text": [
      "[16:29:18] WARNING: /Users/runner/miniforge3/conda-bld/xgboost-split_1637426408905/work/src/learner.cc:1115: Starting in XGBoost 1.3.0, the default evaluation metric used with the objective 'binary:logistic' was changed from 'error' to 'logloss'. Explicitly set eval_metric if you'd like to restore the old behavior.\n"
     ]
    },
    {
     "name": "stderr",
     "output_type": "stream",
     "text": [
      "/opt/anaconda3/envs/CarPricePrediction/lib/python3.8/site-packages/xgboost/sklearn.py:1224: UserWarning: The use of label encoder in XGBClassifier is deprecated and will be removed in a future release. To remove this warning, do the following: 1) Pass option use_label_encoder=False when constructing XGBClassifier object; and 2) Encode your labels (y) as integers starting with 0, i.e. 0, 1, 2, ..., [num_class - 1].\n",
      "  warnings.warn(label_encoder_deprecation_msg, UserWarning)\n"
     ]
    },
    {
     "name": "stdout",
     "output_type": "stream",
     "text": [
      "[16:29:18] WARNING: /Users/runner/miniforge3/conda-bld/xgboost-split_1637426408905/work/src/learner.cc:1115: Starting in XGBoost 1.3.0, the default evaluation metric used with the objective 'binary:logistic' was changed from 'error' to 'logloss'. Explicitly set eval_metric if you'd like to restore the old behavior.\n"
     ]
    },
    {
     "name": "stderr",
     "output_type": "stream",
     "text": [
      "/opt/anaconda3/envs/CarPricePrediction/lib/python3.8/site-packages/xgboost/sklearn.py:1224: UserWarning: The use of label encoder in XGBClassifier is deprecated and will be removed in a future release. To remove this warning, do the following: 1) Pass option use_label_encoder=False when constructing XGBClassifier object; and 2) Encode your labels (y) as integers starting with 0, i.e. 0, 1, 2, ..., [num_class - 1].\n",
      "  warnings.warn(label_encoder_deprecation_msg, UserWarning)\n"
     ]
    },
    {
     "name": "stdout",
     "output_type": "stream",
     "text": [
      "[16:29:19] WARNING: /Users/runner/miniforge3/conda-bld/xgboost-split_1637426408905/work/src/learner.cc:1115: Starting in XGBoost 1.3.0, the default evaluation metric used with the objective 'binary:logistic' was changed from 'error' to 'logloss'. Explicitly set eval_metric if you'd like to restore the old behavior.\n"
     ]
    },
    {
     "name": "stderr",
     "output_type": "stream",
     "text": [
      "/opt/anaconda3/envs/CarPricePrediction/lib/python3.8/site-packages/xgboost/sklearn.py:1224: UserWarning: The use of label encoder in XGBClassifier is deprecated and will be removed in a future release. To remove this warning, do the following: 1) Pass option use_label_encoder=False when constructing XGBClassifier object; and 2) Encode your labels (y) as integers starting with 0, i.e. 0, 1, 2, ..., [num_class - 1].\n",
      "  warnings.warn(label_encoder_deprecation_msg, UserWarning)\n"
     ]
    },
    {
     "name": "stdout",
     "output_type": "stream",
     "text": [
      "[16:29:19] WARNING: /Users/runner/miniforge3/conda-bld/xgboost-split_1637426408905/work/src/learner.cc:1115: Starting in XGBoost 1.3.0, the default evaluation metric used with the objective 'binary:logistic' was changed from 'error' to 'logloss'. Explicitly set eval_metric if you'd like to restore the old behavior.\n"
     ]
    },
    {
     "name": "stderr",
     "output_type": "stream",
     "text": [
      "/opt/anaconda3/envs/CarPricePrediction/lib/python3.8/site-packages/xgboost/sklearn.py:1224: UserWarning: The use of label encoder in XGBClassifier is deprecated and will be removed in a future release. To remove this warning, do the following: 1) Pass option use_label_encoder=False when constructing XGBClassifier object; and 2) Encode your labels (y) as integers starting with 0, i.e. 0, 1, 2, ..., [num_class - 1].\n",
      "  warnings.warn(label_encoder_deprecation_msg, UserWarning)\n"
     ]
    },
    {
     "name": "stdout",
     "output_type": "stream",
     "text": [
      "[16:29:20] WARNING: /Users/runner/miniforge3/conda-bld/xgboost-split_1637426408905/work/src/learner.cc:1115: Starting in XGBoost 1.3.0, the default evaluation metric used with the objective 'binary:logistic' was changed from 'error' to 'logloss'. Explicitly set eval_metric if you'd like to restore the old behavior.\n"
     ]
    }
   ],
   "source": [
    "cross = cross_val_score(model,x_train,y_train,cv=10,verbose=0)"
   ]
  },
  {
   "cell_type": "code",
   "execution_count": 105,
   "id": "9a1af438",
   "metadata": {},
   "outputs": [
    {
     "name": "stderr",
     "output_type": "stream",
     "text": [
      "/opt/anaconda3/envs/CarPricePrediction/lib/python3.8/site-packages/xgboost/sklearn.py:1224: UserWarning: The use of label encoder in XGBClassifier is deprecated and will be removed in a future release. To remove this warning, do the following: 1) Pass option use_label_encoder=False when constructing XGBClassifier object; and 2) Encode your labels (y) as integers starting with 0, i.e. 0, 1, 2, ..., [num_class - 1].\n",
      "  warnings.warn(label_encoder_deprecation_msg, UserWarning)\n"
     ]
    },
    {
     "name": "stdout",
     "output_type": "stream",
     "text": [
      "[16:30:29] WARNING: /Users/runner/miniforge3/conda-bld/xgboost-split_1637426408905/work/src/learner.cc:1115: Starting in XGBoost 1.3.0, the default evaluation metric used with the objective 'binary:logistic' was changed from 'error' to 'logloss'. Explicitly set eval_metric if you'd like to restore the old behavior.\n"
     ]
    },
    {
     "data": {
      "text/plain": [
       "XGBClassifier(base_score=0.5, booster='gbtree', colsample_bylevel=1,\n",
       "              colsample_bynode=1, colsample_bytree=0.7,\n",
       "              enable_categorical=False, gamma=0.2, gpu_id=-1,\n",
       "              importance_type=None, interaction_constraints='',\n",
       "              learning_rate=0.1, max_delta_step=0, max_depth=5,\n",
       "              min_child_weight=1, missing=nan, monotone_constraints='()',\n",
       "              n_estimators=100, n_jobs=8, num_parallel_tree=1, predictor='auto',\n",
       "              random_state=0, reg_alpha=0, reg_lambda=1, scale_pos_weight=1,\n",
       "              subsample=1, tree_method='exact', validate_parameters=1,\n",
       "              verbosity=None)"
      ]
     },
     "execution_count": 105,
     "metadata": {},
     "output_type": "execute_result"
    }
   ],
   "source": [
    "model.fit(x_train,y_train)"
   ]
  },
  {
   "cell_type": "markdown",
   "id": "f6d26338",
   "metadata": {},
   "source": [
    "### Lets dump the model to joblib"
   ]
  },
  {
   "cell_type": "code",
   "execution_count": 106,
   "id": "0dec742b",
   "metadata": {},
   "outputs": [
    {
     "data": {
      "text/plain": [
       "['spotifyXGB']"
      ]
     },
     "execution_count": 106,
     "metadata": {},
     "output_type": "execute_result"
    }
   ],
   "source": [
    "joblib.dump(model,'spotifyXGB')"
   ]
  },
  {
   "cell_type": "markdown",
   "id": "f6e23668",
   "metadata": {},
   "source": [
    "### Loading the model to make a test prediction"
   ]
  },
  {
   "cell_type": "code",
   "execution_count": 107,
   "id": "9c2e9441",
   "metadata": {},
   "outputs": [],
   "source": [
    "m = joblib.load('spotifyXGB')"
   ]
  },
  {
   "cell_type": "code",
   "execution_count": 108,
   "id": "1cd0c9b9",
   "metadata": {},
   "outputs": [],
   "source": [
    "y_new = m.predict(x_test)"
   ]
  },
  {
   "cell_type": "code",
   "execution_count": 109,
   "id": "e7ea4fea",
   "metadata": {},
   "outputs": [
    {
     "data": {
      "text/plain": [
       "array([1, 1, 1, ..., 1, 1, 1])"
      ]
     },
     "execution_count": 109,
     "metadata": {},
     "output_type": "execute_result"
    }
   ],
   "source": [
    "y_new"
   ]
  }
 ],
 "metadata": {
  "kernelspec": {
   "display_name": "Python 3 (ipykernel)",
   "language": "python",
   "name": "python3"
  },
  "language_info": {
   "codemirror_mode": {
    "name": "ipython",
    "version": 3
   },
   "file_extension": ".py",
   "mimetype": "text/x-python",
   "name": "python",
   "nbconvert_exporter": "python",
   "pygments_lexer": "ipython3",
   "version": "3.8.12"
  }
 },
 "nbformat": 4,
 "nbformat_minor": 5
}
